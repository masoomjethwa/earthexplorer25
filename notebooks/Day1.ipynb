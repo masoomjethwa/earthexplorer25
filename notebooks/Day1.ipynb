{
 "cells": [
  {
   "cell_type": "markdown",
   "id": "9487a0bd-d296-4a55-a706-88b769c4404f",
   "metadata": {},
   "source": [
    "# Day 1"
   ]
  },
  {
   "cell_type": "markdown",
   "id": "f0715fec-3242-4c85-b861-a99910dc61a0",
   "metadata": {},
   "source": [
    "## **1. BASICS**\n",
    "\n"
   ]
  },
  {
   "cell_type": "markdown",
   "id": "1b9360ec-7953-4de0-9794-1efb4d02368c",
   "metadata": {},
   "source": [
    "### **Examples**\n"
   ]
  },
  {
   "cell_type": "code",
   "execution_count": null,
   "id": "3f03fe7d-b973-4a60-b476-5aa8c998b6f0",
   "metadata": {},
   "outputs": [],
   "source": [
    "# 1. Variables\n",
    "name = \"Alice\"\n",
    "age = 13\n",
    "print(\"Name:\", name, \"| Age:\", age)"
   ]
  },
  {
   "cell_type": "code",
   "execution_count": null,
   "id": "e06a7440-be30-4d9f-b795-cfd7242c4dfd",
   "metadata": {},
   "outputs": [],
   "source": [
    "# 2. Math operations\n",
    "a = 5\n",
    "b = 2\n",
    "print(\"Addition:\", a + b)\n"
   ]
  },
  {
   "cell_type": "code",
   "execution_count": null,
   "id": "5886ecb3-6dba-4795-8ebd-0dafac0e4820",
   "metadata": {},
   "outputs": [],
   "source": [
    "print(\"Power:\", a ** b)"
   ]
  },
  {
   "cell_type": "code",
   "execution_count": null,
   "id": "4969f7bf-02d1-4928-b46c-5f696ca4b5cb",
   "metadata": {},
   "outputs": [],
   "source": [
    "# 3. Strings\n",
    "greeting = \"Hello\"\n",
    "print(greeting + \" \" + name)"
   ]
  },
  {
   "cell_type": "code",
   "execution_count": null,
   "id": "4b5f110a-a0ab-429c-8d2f-88a1817be1dc",
   "metadata": {},
   "outputs": [],
   "source": [
    "# 4. Lists\n",
    "colors = [\"red\", \"blue\", \"green\"]\n",
    "print(\"First color:\", colors[0])"
   ]
  },
  {
   "cell_type": "code",
   "execution_count": null,
   "id": "626350d8-6330-4293-aed8-4bee882efc8c",
   "metadata": {},
   "outputs": [],
   "source": [
    "# 5. If statements\n",
    "if age >= 13:\n",
    "    print(\"Teenager\")"
   ]
  },
  {
   "cell_type": "code",
   "execution_count": null,
   "id": "11c80d52-0d4c-4243-98d4-e1d66e962531",
   "metadata": {},
   "outputs": [],
   "source": [
    "# 6. For loop\n",
    "for color in colors:\n",
    "    print(\"Color:\", color)"
   ]
  },
  {
   "cell_type": "code",
   "execution_count": null,
   "id": "a2081c36-190f-4b06-a862-f7c20ba80ade",
   "metadata": {},
   "outputs": [],
   "source": [
    "# 7. While loop\n",
    "count = 3\n",
    "while count > 0:\n",
    "    print(\"Count:\", count)\n",
    "    count -= 1\n"
   ]
  },
  {
   "cell_type": "code",
   "execution_count": null,
   "id": "32850aba-c3c5-49c4-ac01-1073a03ecad5",
   "metadata": {},
   "outputs": [],
   "source": [
    "# 8. Functions\n",
    "def square(n):\n",
    "    return n * n\n",
    "\n",
    "print(\"Square of 4:\", square(4))"
   ]
  },
  {
   "cell_type": "code",
   "execution_count": null,
   "id": "277d531b-eb53-40be-8d9d-39bf9cf73d9b",
   "metadata": {},
   "outputs": [],
   "source": [
    "# 9. Dictionaries\n",
    "student = {\"name\": \"Alice\", \"grade\": 7}\n",
    "print(student[\"name\"])"
   ]
  },
  {
   "cell_type": "code",
   "execution_count": null,
   "id": "06f363c0-c773-4a0d-8a81-54a1f716a814",
   "metadata": {},
   "outputs": [],
   "source": [
    "# 10. Input (optional)\n",
    "# user_name = input(\"Enter your name: \")\n",
    "# print(\"Hello\", user_name)"
   ]
  },
  {
   "cell_type": "markdown",
   "id": "bbcccc5b-09e9-45af-8b4e-eedc6950b225",
   "metadata": {},
   "source": [
    "## **2. NumPy**\n",
    "NumPy is the foundation for numerical computing in Python. It provides support for arrays, matrices, and mathematical operations.\n"
   ]
  },
  {
   "cell_type": "code",
   "execution_count": null,
   "id": "9514ee87-4058-45c0-bccf-fcbff7bb5303",
   "metadata": {},
   "outputs": [],
   "source": [
    "import numpy as np"
   ]
  },
  {
   "cell_type": "code",
   "execution_count": null,
   "id": "ef7e8eb4-b401-48cd-a47b-ff9059d7ec62",
   "metadata": {},
   "outputs": [],
   "source": [
    "# 1. Create array\n",
    "arr = np.array([1, 2, 3])\n",
    "print(\"Array:\", arr)"
   ]
  },
  {
   "cell_type": "code",
   "execution_count": null,
   "id": "f0f0d9cf-6ead-48a0-9a99-3f744c8d2d3f",
   "metadata": {},
   "outputs": [],
   "source": [
    "# 2. Zeros\n",
    "zeros = np.zeros(3)\n",
    "print(\"Zeros:\", zeros)"
   ]
  },
  {
   "cell_type": "code",
   "execution_count": null,
   "id": "ed046440-6f2c-4088-bf0f-a0d0fee4ba6b",
   "metadata": {},
   "outputs": [],
   "source": [
    "# 3. Ones\n",
    "ones = np.ones(4)\n",
    "print(\"Ones:\", ones)"
   ]
  },
  {
   "cell_type": "code",
   "execution_count": null,
   "id": "990c36e7-d8c8-4818-8b01-2eed157b4231",
   "metadata": {},
   "outputs": [],
   "source": [
    "# 4. Random numbers\n",
    "rand = np.random.rand(3)\n",
    "print(\"Random:\", rand)"
   ]
  },
  {
   "cell_type": "code",
   "execution_count": null,
   "id": "2c5dc1a3-573a-48a5-bae2-0247788646c0",
   "metadata": {},
   "outputs": [],
   "source": [
    "# 5. Array math\n",
    "a = np.array([2, 4, 6])\n",
    "b = np.array([1, 2, 3])\n",
    "print(\"Sum:\", a + b)"
   ]
  },
  {
   "cell_type": "code",
   "execution_count": null,
   "id": "65fb8f71-2a8a-4f2d-bc8f-4ffc904c5640",
   "metadata": {},
   "outputs": [],
   "source": [
    "# 6. Mean\n",
    "print(\"Mean:\", np.mean(a))"
   ]
  },
  {
   "cell_type": "code",
   "execution_count": null,
   "id": "4579bd69-a52f-47d2-9308-153c9a2429e3",
   "metadata": {},
   "outputs": [],
   "source": [
    "# 7. Max and Min\n",
    "print(\"Max:\", np.max(a), \"| Min:\", np.min(a))"
   ]
  },
  {
   "cell_type": "code",
   "execution_count": null,
   "id": "0abf6970-be1b-41e9-9403-9fd64b33c911",
   "metadata": {},
   "outputs": [],
   "source": [
    "# 8. Indexing\n",
    "print(\"First element:\", a[0])\n"
   ]
  },
  {
   "cell_type": "code",
   "execution_count": null,
   "id": "8e0f53dc-85b5-4b91-ae0e-58e4497bbbd2",
   "metadata": {},
   "outputs": [],
   "source": [
    "# 9. Slicing\n",
    "print(\"First two:\", a[:2])"
   ]
  },
  {
   "cell_type": "code",
   "execution_count": null,
   "id": "1809c2dd-015e-4e7e-8b3b-b2711069eabc",
   "metadata": {},
   "outputs": [],
   "source": [
    "# 10. Shape\n",
    "print(\"Shape:\", a.shape)"
   ]
  },
  {
   "cell_type": "markdown",
   "id": "d71076de-3b06-44c0-ba92-667d565da2ac",
   "metadata": {},
   "source": [
    "## 2. 📊 Pandas Basics"
   ]
  },
  {
   "cell_type": "code",
   "execution_count": null,
   "id": "9e2cde7a-819a-4b53-913c-9b8a60daa165",
   "metadata": {},
   "outputs": [],
   "source": [
    "import pandas as pd"
   ]
  },
  {
   "cell_type": "code",
   "execution_count": null,
   "id": "98719d63-fa9a-4405-a7e8-815ddea304fd",
   "metadata": {},
   "outputs": [],
   "source": [
    "# 1. Create Series\n",
    "s = pd.Series([10, 20, 30])\n",
    "print(\"Series:\\n\", s)"
   ]
  },
  {
   "cell_type": "code",
   "execution_count": null,
   "id": "419575b0-c013-4546-a9b1-f26c8afcdf1e",
   "metadata": {},
   "outputs": [],
   "source": [
    "# 2. Create DataFrame\n",
    "df = pd.DataFrame({\"Name\": [\"Alice\", \"Bob\"], \"Age\": [13, 14]})\n",
    "print(\"DataFrame:\\n\", df)"
   ]
  },
  {
   "cell_type": "code",
   "execution_count": null,
   "id": "31793612-0d64-46d8-afd4-2d96e444f839",
   "metadata": {},
   "outputs": [],
   "source": [
    "# 3. Access column\n",
    "print(\"Names:\", df[\"Name\"])"
   ]
  },
  {
   "cell_type": "code",
   "execution_count": null,
   "id": "fbd8e190-1a0c-463d-b4cb-9082d0d61acd",
   "metadata": {},
   "outputs": [],
   "source": [
    "# 4. Add column\n",
    "df[\"Grade\"] = [7, 8]\n",
    "print(df)"
   ]
  },
  {
   "cell_type": "code",
   "execution_count": null,
   "id": "db0faf62-6cb6-4fe9-972d-a57c0680a0d8",
   "metadata": {},
   "outputs": [],
   "source": [
    "# 5. Filter rows\n",
    "print(\"Age > 13:\\n\", df[df[\"Age\"] > 13])"
   ]
  },
  {
   "cell_type": "code",
   "execution_count": null,
   "id": "b50a5993-d02d-4e50-9119-b34b6cca4e52",
   "metadata": {},
   "outputs": [],
   "source": [
    "# 6. Get row\n",
    "print(\"First row:\\n\", df.iloc[0])"
   ]
  },
  {
   "cell_type": "code",
   "execution_count": null,
   "id": "12457f23-43f8-42b7-bdd0-c4260d289487",
   "metadata": {},
   "outputs": [],
   "source": [
    "# 7. Describe stats\n",
    "print(df.describe())"
   ]
  },
  {
   "cell_type": "code",
   "execution_count": null,
   "id": "73c93692-0142-4008-86cb-ea74fe756309",
   "metadata": {},
   "outputs": [],
   "source": [
    "# 8. Sort\n",
    "print(\"Sorted by age:\\n\", df.sort_values(\"Age\"))"
   ]
  },
  {
   "cell_type": "code",
   "execution_count": null,
   "id": "4b19b7df-7cdc-4589-90b7-b8f68673419e",
   "metadata": {},
   "outputs": [],
   "source": [
    "# 9. Drop column\n",
    "df2 = df.drop(\"Grade\", axis=1)\n",
    "print(df2)"
   ]
  },
  {
   "cell_type": "code",
   "execution_count": null,
   "id": "87758216-5246-4f42-ac65-c814d416b05c",
   "metadata": {},
   "outputs": [],
   "source": [
    "# 10. Save to CSV (optional)\n",
    "# df.to_csv(\"students.csv\", index=False)"
   ]
  },
  {
   "cell_type": "code",
   "execution_count": null,
   "id": "692ee9f7-9a69-444a-992f-3d8ec01c9844",
   "metadata": {},
   "outputs": [],
   "source": [
    "print(\"Welcome to Python for Earth Observations!\")"
   ]
  },
  {
   "cell_type": "code",
   "execution_count": null,
   "id": "0fa58df4-1f41-4553-a1a8-0a1b8664b45f",
   "metadata": {},
   "outputs": [],
   "source": [
    "# Variables and data types\n",
    "student_name = \"Satellite Explorer\"  # This is a string\n",
    "student_age = 14                     # This is an integer\n",
    "earth_radius_km = 6371.0             # This is a float (decimal)\n"
   ]
  },
  {
   "cell_type": "code",
   "execution_count": null,
   "id": "7ef7605c-6614-42c8-be5e-4a1a468f7ae4",
   "metadata": {},
   "outputs": [],
   "source": [
    "print(\"Your name is:\", student_name)\n",
    "print(\"Your age is:\", student_age)\n",
    "print(\"The Earth's radius is:\", earth_radius_km, \"kilometers\")\n"
   ]
  },
  {
   "cell_type": "code",
   "execution_count": null,
   "id": "832b43d1-d006-4c46-8bcd-4833fdca6cad",
   "metadata": {},
   "outputs": [],
   "source": [
    "# Basic math operations\n",
    "print(\"\\nLet's do some basic calculations:\")\n",
    "length = 5\n",
    "width = 3\n",
    "area = length * width\n",
    "print(f\"The area of a rectangle with length {length} and width {width} is: {area} square units\")\n"
   ]
  },
  {
   "cell_type": "code",
   "execution_count": null,
   "id": "2cf93e20-4c0f-45c8-b70d-d117a7479132",
   "metadata": {},
   "outputs": [],
   "source": [
    "# Simple string operations\n",
    "print(\"\\nString operations:\")\n",
    "planet = \"Earth\"\n",
    "print(\"Our planet is:\", planet)\n",
    "print(\"Number of letters in\", planet, \":\", len(planet))\n",
    "print(planet, \"in uppercase:\", planet.upper())\n",
    "\n"
   ]
  },
  {
   "cell_type": "code",
   "execution_count": null,
   "id": "c49334dc-aefe-45b2-8515-307d99cb6ec7",
   "metadata": {},
   "outputs": [],
   "source": [
    "# User input example - comment out for now, uncomment when ready to use\n",
    "your_name = input(\"Enter your name: \")\n",
    "your_age = int(input(\"Enter your age: \"))\n",
    "print(f\"Hello {your_name}, you are {your_age} years old.\")\n",
    "\n"
   ]
  },
  {
   "cell_type": "code",
   "execution_count": null,
   "id": "55d051b9-e523-45d5-bce2-edd1154450d5",
   "metadata": {},
   "outputs": [],
   "source": [
    "# Part 2: Introduction to Earth Observation\n",
    "print(\"\\n\\nEarth Observation Basics\")\n",
    "print(\"------------------------\")\n"
   ]
  },
  {
   "cell_type": "code",
   "execution_count": null,
   "id": "079d8dc7-27a3-4202-8b18-f74b27b487eb",
   "metadata": {},
   "outputs": [],
   "source": [
    "# Information about satellites\n",
    "satellites = [\"MODIS\", \"Landsat\", \"Sentinel-2\"]\n",
    "print(\"Common Earth observation satellites:\", satellites)\n"
   ]
  },
  {
   "cell_type": "code",
   "execution_count": null,
   "id": "e276d076-8c30-4000-8895-b554052a2422",
   "metadata": {},
   "outputs": [],
   "source": [
    "# What satellites measure\n",
    "measurements = {\n",
    "    \"Temperature\": \"Earth surface temperature\",\n",
    "    \"Vegetation\": \"plant health\",\n",
    "    \"Oceans\": \"Satellites can track ocean color, temperature, and height\"\n",
    "}\n"
   ]
  },
  {
   "cell_type": "code",
   "execution_count": null,
   "id": "c009ba56-457f-47eb-90f6-2c70aeaacd08",
   "metadata": {},
   "outputs": [],
   "source": [
    "measurements"
   ]
  },
  {
   "cell_type": "code",
   "execution_count": null,
   "id": "feffd1ba-3b16-4078-9871-a5e256a7707a",
   "metadata": {},
   "outputs": [],
   "source": [
    "print(\"\\nWhat satellites measure:\")\n",
    "for measure, description in measurements.items():\n",
    "    print(f\"- {measure}: {description}\")\n"
   ]
  },
  {
   "cell_type": "code",
   "execution_count": null,
   "id": "fe5356b2-ec58-4c24-a604-b79b359bf5b2",
   "metadata": {},
   "outputs": [],
   "source": [
    "# Simple calculation example - temperature conversion\n",
    "celsius = 25.0  # Example satellite temperature reading in Celsius\n",
    "fahrenheit = (celsius * 9/5) + 32\n",
    "print(f\"\\nA satellite measured {celsius}°C, which equals {fahrenheit}°F\")\n",
    "\n",
    "print(\"\\nEnd of Day 1 - You've learned Python basics and Earth observation concepts!\")\n"
   ]
  },
  {
   "cell_type": "code",
   "execution_count": null,
   "id": "9cd5aec0-b836-4cb8-b152-e50166ab5e0c",
   "metadata": {},
   "outputs": [],
   "source": [
    "my_name = \"Your Name\"\n",
    "my_age = 13\n",
    "print(f\"My name is {my_name} and I am {my_age} years old.\")\n"
   ]
  },
  {
   "cell_type": "markdown",
   "id": "b1f2c040-c3de-4f59-b2e0-4daf042bf9bf",
   "metadata": {},
   "source": [
    "<p><font size=\"6\"><b> Introduction to  vector data in Python</b></font></p>"
   ]
  },
  {
   "cell_type": "code",
   "execution_count": null,
   "id": "4516bdb7-94c7-4706-8fc3-4daedbbb68de",
   "metadata": {},
   "outputs": [],
   "source": [
    "%matplotlib inline\n",
    "\n",
    "import pandas as pd\n",
    "import geopandas"
   ]
  },
  {
   "cell_type": "code",
   "execution_count": null,
   "id": "89602c0b-39f5-480b-b0ae-4bb522161c49",
   "metadata": {},
   "outputs": [],
   "source": [
    "countries = geopandas.read_file(\"ne_110m_admin_0_countries.zip\")\n",
    "# or if the archive is unpacked:\n",
    "# countries = geopandas.read_file(\"ne_110m_admin_0_countries.shp\")"
   ]
  },
  {
   "cell_type": "code",
   "execution_count": null,
   "id": "66a7a304-106e-4c0d-8162-7d318292c036",
   "metadata": {},
   "outputs": [],
   "source": [
    "countries.head()"
   ]
  },
  {
   "cell_type": "code",
   "execution_count": null,
   "id": "145b98b5-8588-4a47-89ba-4d611e00e405",
   "metadata": {},
   "outputs": [],
   "source": [
    "countries.plot()"
   ]
  },
  {
   "cell_type": "code",
   "execution_count": null,
   "id": "d97623da-4e6f-43a3-a0ba-074a678b1f73",
   "metadata": {},
   "outputs": [],
   "source": [
    "countries.explore()"
   ]
  },
  {
   "cell_type": "markdown",
   "id": "48caefa9-47d9-4d79-a85c-c46953766a2e",
   "metadata": {},
   "source": [
    "What do we observe:\n",
    "\n",
    "- Using `.head()` we can see the first rows of the dataset, just like we can do with Pandas.\n",
    "- There is a `geometry` column and the different countries are represented as polygons\n",
    "- We can use the `.plot()` (matplotlib) or `explore()` (Folium / Leaflet.js) method to quickly get a *basic* visualization of the data"
   ]
  },
  {
   "cell_type": "markdown",
   "id": "c8956b16-85ab-4848-a160-980a9859b47e",
   "metadata": {},
   "source": [
    "## What's a GeoDataFrame?\n",
    "\n",
    "We used the GeoPandas library to read in the geospatial data, and this returned us a `GeoDataFrame`:"
   ]
  },
  {
   "cell_type": "code",
   "execution_count": null,
   "id": "84e432ad-46b4-4c3c-8279-47c3baa402ca",
   "metadata": {},
   "outputs": [],
   "source": [
    "type(countries)"
   ]
  },
  {
   "cell_type": "markdown",
   "id": "f0e39b94-d1b8-4088-bd04-f649b44b0951",
   "metadata": {},
   "source": [
    "A GeoDataFrame contains a tabular, geospatial dataset:\n",
    "\n",
    "* It has a **'geometry' column** that holds the geometry information (or features in GeoJSON).\n",
    "* The other columns are the **attributes** (or properties in GeoJSON) that describe each of the geometries\n",
    "\n",
    "Such a `GeoDataFrame` is just like a pandas `DataFrame`, but with some additional functionality for working with geospatial data:\n",
    "\n",
    "* A `.geometry` attribute that always returns the column with the geometry information (returning a GeoSeries). The column name itself does not necessarily need to be 'geometry', but it will always be accessible as the `.geometry` attribute.\n",
    "* It has some extra methods for working with spatial data (area, distance, buffer, intersection, ...), which we will learn in later notebooks"
   ]
  },
  {
   "cell_type": "code",
   "execution_count": null,
   "id": "dbb43a3b-7a9c-476e-9249-b7f8921250b6",
   "metadata": {},
   "outputs": [],
   "source": [
    "countries.geometry"
   ]
  },
  {
   "cell_type": "code",
   "execution_count": null,
   "id": "71840720-2ac0-4770-8a51-61c5aaa4fee3",
   "metadata": {},
   "outputs": [],
   "source": [
    "type(countries.geometry)"
   ]
  },
  {
   "cell_type": "code",
   "execution_count": null,
   "id": "a100d8d8-70d2-4759-abf7-6fe1c18610c7",
   "metadata": {},
   "outputs": [],
   "source": [
    "# Reproject to an equal-area projection (e.g., EPSG: 6933)\n",
    "countries_equal_area = countries.to_crs(epsg=6933)\n",
    "\n",
    "# Compute area in square meters\n",
    "countries_equal_area['area_m2'] = countries_equal_area.geometry.area\n",
    "\n",
    "# Optional: convert to square kilometers\n",
    "countries_equal_area['area_km2'] = countries_equal_area['area_m2'] / 1e6\n",
    "\n",
    "# View the result\n",
    "print(countries_equal_area[['NAME', 'area_km2']].head())\n"
   ]
  },
  {
   "cell_type": "markdown",
   "id": "3a1684ed-8e93-4450-806d-dd4025cde5ec",
   "metadata": {},
   "source": [
    "**It's still a DataFrame**, so we have all the Pandas functionality available to use on the geospatial dataset, and to do data manipulations with the attributes and geometry information together.\n",
    "\n",
    "For example, we can calculate average population number over all countries (by accessing the 'pop_est' column, and calling the `mean` method on it):"
   ]
  },
  {
   "cell_type": "code",
   "execution_count": null,
   "id": "9daea224-0405-4f05-be4f-065883b609fc",
   "metadata": {},
   "outputs": [],
   "source": [
    "countries['POP_EST'].mean()"
   ]
  },
  {
   "cell_type": "markdown",
   "id": "2c6a93bd-2e4b-4617-9ea5-8a1d999c70e3",
   "metadata": {},
   "source": [
    "Or, we can use boolean filtering to select a subset of the dataframe based on a condition:"
   ]
  },
  {
   "cell_type": "code",
   "execution_count": null,
   "id": "4ecafecf-8962-44d4-ac2f-15b4e2b247f2",
   "metadata": {},
   "outputs": [],
   "source": [
    "africa = countries[countries['CONTINENT'] == 'Africa']"
   ]
  },
  {
   "cell_type": "code",
   "execution_count": null,
   "id": "8497f629-b029-4cfa-bdda-56e7424722ca",
   "metadata": {},
   "outputs": [],
   "source": [
    "africa.plot();"
   ]
  },
  {
   "cell_type": "markdown",
   "id": "d3a45e71-f3aa-43d1-b2ee-de099353265f",
   "metadata": {},
   "source": [
    "<div class=\"alert alert-info\" style=\"font-size:120%\">\n",
    "\n",
    "**REMEMBER:** <br>\n",
    "\n",
    "* A `GeoDataFrame` allows to perform typical tabular data analysis together with spatial operations\n",
    "* A `GeoDataFrame` (or *Feature Collection*) consists of:\n",
    "    * **Geometries** or **features**: the spatial objects\n",
    "    * **Attributes** or **properties**: columns with information about each spatial object\n",
    "\n",
    "</div>"
   ]
  },
  {
   "cell_type": "code",
   "execution_count": null,
   "id": "815b56d9-50b8-4b87-898f-d3af6f617836",
   "metadata": {},
   "outputs": [],
   "source": []
  }
 ],
 "metadata": {
  "kernelspec": {
   "display_name": "Python 3 (ipykernel)",
   "language": "python",
   "name": "python3"
  },
  "language_info": {
   "codemirror_mode": {
    "name": "ipython",
    "version": 3
   },
   "file_extension": ".py",
   "mimetype": "text/x-python",
   "name": "python",
   "nbconvert_exporter": "python",
   "pygments_lexer": "ipython3",
   "version": "3.10.16"
  }
 },
 "nbformat": 4,
 "nbformat_minor": 5
}
