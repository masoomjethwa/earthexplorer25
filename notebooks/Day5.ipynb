{
 "cells": [
  {
   "cell_type": "markdown",
   "id": "8f40fb57-7f78-446c-874b-282598a8e5ad",
   "metadata": {},
   "source": [
    "# Day 5\n",
    "\n",
    "## Part 1. Xarray and its application\n",
    "\n",
    "Xarray extends the capabilities of NumPy by providing a data structure for labeled, multi-dimensional arrays. The two main data structures in Xarray are:\n",
    "\n",
    "\n",
    "- DataArray\n",
    "\n",
    "- Dataset"
   ]
  },
  {
   "cell_type": "code",
   "execution_count": null,
   "id": "14df83be-c0a8-489b-bf40-fa7f69385dc8",
   "metadata": {},
   "outputs": [],
   "source": [
    "import matplotlib.pyplot as plt\n",
    "import numpy as np\n",
    "import xarray as xr\n",
    "\n",
    "xr.set_options(keep_attrs=True, display_expand_data=False)\n",
    "np.set_printoptions(threshold=10, edgeitems=2)"
   ]
  },
  {
   "cell_type": "markdown",
   "id": "d961e833-94a6-4337-afee-e6e59c0493e1",
   "metadata": {},
   "source": [
    "Xarray Data Structures\n",
    "Xarray provides two core data structures:\n",
    "\n",
    " - DataArray: A single multi-dimensional array with labeled dimensions, coordinates, and metadata.\n",
    "\n",
    " - Dataset: A collection of DataArray objects, each corresponding to a variable, sharing the same dimensions and coordinates."
   ]
  },
  {
   "cell_type": "markdown",
   "id": "0d3a0d9a-0331-46cb-9c6a-ea8c6a7a8c35",
   "metadata": {},
   "source": [
    "### Loading a Dataset\n",
    "- Understand the basic data structures in Xarray\n",
    "- Inspect DataArray and Dataset objects.\n",
    "- Read and write netCDF files using Xarray.\n",
    "- Understand that there are many packages that build on top of xarray"
   ]
  },
  {
   "cell_type": "code",
   "execution_count": null,
   "id": "c5b8f923-f762-40b5-8864-bd5693cdc9e2",
   "metadata": {},
   "outputs": [],
   "source": [
    "ds = xr.tutorial.load_dataset(\"air_temperature\")\n",
    "ds"
   ]
  },
  {
   "cell_type": "code",
   "execution_count": null,
   "id": "91056241-4e29-4cbc-8689-5f55569f0b73",
   "metadata": {},
   "outputs": [],
   "source": [
    "# pull out \"air\" dataarray with dictionary syntax\n",
    "ds[\"air\"]"
   ]
  },
  {
   "cell_type": "code",
   "execution_count": null,
   "id": "7e2d0d9a-d443-4225-83db-bee4e2cd0100",
   "metadata": {},
   "outputs": [],
   "source": [
    "# pull out dataarray using dot notation\n",
    "ds.air"
   ]
  },
  {
   "cell_type": "code",
   "execution_count": null,
   "id": "464145e0-13de-48ea-aeb4-2ec4a2076dcf",
   "metadata": {},
   "outputs": [],
   "source": [
    "da = ds.air\n",
    "\n",
    "da.name"
   ]
  },
  {
   "cell_type": "code",
   "execution_count": null,
   "id": "d24c1c0c-7429-4d74-8e32-0e69ce3916bb",
   "metadata": {},
   "outputs": [],
   "source": [
    "da.dims"
   ]
  },
  {
   "cell_type": "code",
   "execution_count": null,
   "id": "be8fbc1a-c37c-4d5e-9d60-b78078298a08",
   "metadata": {},
   "outputs": [],
   "source": [
    "# extracting coordinate variables\n",
    "da.lon"
   ]
  },
  {
   "cell_type": "code",
   "execution_count": null,
   "id": "4ee41a14-f1c9-433a-af57-db6783913e3f",
   "metadata": {},
   "outputs": [],
   "source": [
    "# extracting coordinate variables from .coords\n",
    "da.coords[\"lon\"]"
   ]
  },
  {
   "cell_type": "code",
   "execution_count": null,
   "id": "b4595229-f236-48f3-9527-73f012a2ed97",
   "metadata": {},
   "outputs": [],
   "source": [
    "# Data extractions \n",
    "da.data"
   ]
  },
  {
   "cell_type": "code",
   "execution_count": null,
   "id": "383a1b36-fb1e-4806-859b-ed683c44937e",
   "metadata": {},
   "outputs": [],
   "source": [
    "# what is the type of the underlying data\n",
    "type(da.data)"
   ]
  },
  {
   "cell_type": "markdown",
   "id": "4ad32c8d-d0ad-443d-954e-c6a92da207ea",
   "metadata": {},
   "source": [
    "## Part 2. Projections\n",
    "\n",
    "\n",
    "A map projection (or more commonly refered to as just “projection”) is:\n",
    "\n",
    "a systematic transformation of the latitudes and longitudes of locations from the surface of a sphere or an ellipsoid into locations on a plane.\\n\n",
    "\n",
    "In Cartopy, each projection is a class. Most classes of projection can be configured in projection-specific ways, although Cartopy takes an opinionated stance on sensible defaults.\n",
    "\n",
    "We need cartopy’s crs module. This is typically imported as ccrs (Cartopy Coordinate Reference Systems). CRS\n",
    "\n"
   ]
  },
  {
   "cell_type": "code",
   "execution_count": null,
   "id": "940abc9d-b118-4fb5-b730-9ce9b05a650b",
   "metadata": {},
   "outputs": [],
   "source": [
    "import cartopy.crs as ccrs\n",
    "import cartopy"
   ]
  },
  {
   "cell_type": "code",
   "execution_count": null,
   "id": "9894eab5-7cd5-42f3-bde4-c9fe46e4f96e",
   "metadata": {},
   "outputs": [],
   "source": [
    "ccrs.PlateCarree()"
   ]
  },
  {
   "cell_type": "markdown",
   "id": "7b2c9006-4efa-4c9f-9ede-89126d2d9470",
   "metadata": {},
   "source": [
    "Drawing a map\n",
    "Cartopy optionally depends upon matplotlib, and each projection knows how to create a matplotlib Axes (or AxesSubplot) that can represent itself."
   ]
  },
  {
   "cell_type": "code",
   "execution_count": null,
   "id": "c3798376-6b29-4dd6-9733-83f7a0d63b00",
   "metadata": {},
   "outputs": [],
   "source": [
    "\n",
    "import matplotlib.pyplot as plt\n",
    "\n",
    "plt.axes(projection=ccrs.PlateCarree())"
   ]
  },
  {
   "cell_type": "code",
   "execution_count": null,
   "id": "eb1b3713-b45c-40ad-8bc9-c4445e330cf5",
   "metadata": {},
   "outputs": [],
   "source": [
    "plt.figure()\n",
    "ax = plt.axes(projection=ccrs.PlateCarree())\n",
    "ax.coastlines()"
   ]
  },
  {
   "cell_type": "code",
   "execution_count": null,
   "id": "e566dd80-ffa3-4b3c-bf4f-ce95c2022001",
   "metadata": {},
   "outputs": [],
   "source": [
    "# That was a little underwhelming, but we can see that the Axes created is indeed one of those GeoAxes[Subplot] instances.\n",
    "\n",
    "# One of the most useful methods that this class adds on top of the standard matplotlib Axes class is the coastlines method. With no arguments, it will add the Natural Earth 1:110,000,000 scale coastline data to the map."
   ]
  },
  {
   "cell_type": "code",
   "execution_count": null,
   "id": "7a1e5595-c2e1-4b1c-ade5-b723d7787582",
   "metadata": {},
   "outputs": [],
   "source": [
    "fig, ax = plt.subplots(subplot_kw={'projection': ccrs.PlateCarree()})\n",
    "ax.coastlines()"
   ]
  },
  {
   "cell_type": "code",
   "execution_count": null,
   "id": "b101e425-af06-483c-b8ee-f92b8dacdd6c",
   "metadata": {},
   "outputs": [],
   "source": [
    "ccrs.PlateCarree?"
   ]
  },
  {
   "cell_type": "code",
   "execution_count": null,
   "id": "3ed811d4-3c3d-489d-998e-bf57d0932562",
   "metadata": {},
   "outputs": [],
   "source": [
    "ax = plt.axes(projection=ccrs.PlateCarree(central_longitude=180))\n",
    "ax.coastlines()"
   ]
  },
  {
   "cell_type": "markdown",
   "id": "67093472-d8f8-41e1-8ba4-fe772c6d73be",
   "metadata": {},
   "source": [
    "Examples of Different Projections"
   ]
  },
  {
   "cell_type": "code",
   "execution_count": null,
   "id": "792df1c6-b55b-494d-84e5-3329bd11b02d",
   "metadata": {},
   "outputs": [],
   "source": [
    "projections = [ccrs.PlateCarree(),\n",
    "               ccrs.Robinson(),\n",
    "               ccrs.Mercator(),\n",
    "               ccrs.Orthographic(),\n",
    "               ccrs.InterruptedGoodeHomolosine()\n",
    "              ]\n",
    "\n",
    "\n",
    "for proj in projections:\n",
    "    plt.figure()\n",
    "    ax = plt.axes(projection=proj)\n",
    "    ax.stock_img()\n",
    "    ax.coastlines()\n",
    "    ax.set_title(f'{type(proj)}')"
   ]
  },
  {
   "cell_type": "markdown",
   "id": "1adbe775-0bf8-4c83-ba68-db3c35e519ec",
   "metadata": {},
   "source": [
    "## Part 3. Geopandas\n",
    "\n",
    "This quick tutorial introduces the key concepts and basic features of GeoPandas to help you get started with your projects.\n"
   ]
  },
  {
   "cell_type": "code",
   "execution_count": null,
   "id": "28f3d303-d0ce-4d2c-9919-887cc81e80d7",
   "metadata": {},
   "outputs": [],
   "source": [
    "import geopandas\n",
    "from geodatasets import get_path\n",
    "\n",
    "path_to_data = get_path(\"nybb\")\n",
    "gdf = geopandas.read_file(path_to_data)\n",
    "\n",
    "gdf\n"
   ]
  },
  {
   "cell_type": "code",
   "execution_count": null,
   "id": "e6f0b510-28c7-451d-99a6-2f23fb7f71bc",
   "metadata": {},
   "outputs": [],
   "source": [
    "# writing files \n",
    "gdf.to_file(\"my_file.geojson\", driver=\"GeoJSON\")"
   ]
  },
  {
   "cell_type": "markdown",
   "id": "0bced2f6-3046-442d-8693-38a2f1fdd7a5",
   "metadata": {},
   "source": [
    "## Simple accessors and methods\n",
    "Now we have our GeoDataFrame and can start working with its geometry."
   ]
  },
  {
   "cell_type": "code",
   "execution_count": null,
   "id": "a4c5f77c-819e-4d81-8f99-786d9cae3e3f",
   "metadata": {},
   "outputs": [],
   "source": [
    "# Measuring area\n",
    "# To measure the area of each polygon\n",
    "\n",
    "gdf = gdf.set_index(\"BoroName\")"
   ]
  },
  {
   "cell_type": "code",
   "execution_count": null,
   "id": "0676602a-8b7a-40de-a5db-30667413bae1",
   "metadata": {},
   "outputs": [],
   "source": [
    "gdf[\"area\"] = gdf.area\n",
    "gdf[\"area\"]"
   ]
  },
  {
   "cell_type": "code",
   "execution_count": null,
   "id": "386aef4c-88cd-41f5-8633-fd13f07e1ec4",
   "metadata": {},
   "outputs": [],
   "source": [
    "# Getting polygon boundary and centroid\n",
    "gdf[\"boundary\"] = gdf.boundary\n",
    "gdf[\"boundary\"]"
   ]
  },
  {
   "cell_type": "code",
   "execution_count": null,
   "id": "a89727aa-bf1f-49ab-addb-b55fa4b0963c",
   "metadata": {},
   "outputs": [],
   "source": [
    "# We can also create new geometries, which could be, for example, a buffered version of the original one (i.e., GeoDataFrame.buffer(10)) or its centroid:gdf[\"centroid\"] = gdf.centroid\n",
    "gdf[\"centroid\"] = gdf.centroid\n",
    "gdf[\"centroid\"]"
   ]
  },
  {
   "cell_type": "code",
   "execution_count": null,
   "id": "b0804cbf-2619-4351-809d-a4d61b76c947",
   "metadata": {},
   "outputs": [],
   "source": [
    "# Measuring distance\n",
    "first_point = gdf[\"centroid\"].iloc[0]\n",
    "gdf[\"distance\"] = gdf[\"centroid\"].distance(first_point)\n",
    "gdf[\"distance\"]"
   ]
  },
  {
   "cell_type": "code",
   "execution_count": null,
   "id": "e27b7cd5-a083-43c8-a6fe-c4a9c12e1edf",
   "metadata": {},
   "outputs": [],
   "source": [
    "# For example, to calculate the average of the distances measured above, access the ‘distance’ column and call the mean() method on it:\n",
    "\n",
    "gdf[\"distance\"].mean()"
   ]
  },
  {
   "cell_type": "code",
   "execution_count": null,
   "id": "2282335d-0995-4039-8067-4fb0ceb3f89a",
   "metadata": {},
   "outputs": [],
   "source": [
    "# Making maps\n",
    "\n",
    "gdf.plot(\"area\", legend=True)"
   ]
  },
  {
   "cell_type": "code",
   "execution_count": null,
   "id": "87a5a8fc-7080-4ff0-b273-ec4e62cb64db",
   "metadata": {},
   "outputs": [],
   "source": [
    "gdf = gdf.set_geometry(\"centroid\")\n",
    "gdf.plot(\"area\", legend=True)"
   ]
  },
  {
   "cell_type": "markdown",
   "id": "26e136b1-6dfe-4af8-9e34-3aff146c6364",
   "metadata": {},
   "source": [
    "## Part 5. Air quality Analysis\n",
    "\n",
    "Xarray extends the capabilities of NumPy by providing a data structure for labeled, multi-dimensional arrays. The two main data structures in Xarray are:\n",
    "\n",
    "\n",
    "- DataArray\n",
    "\n",
    "- Dataset"
   ]
  },
  {
   "cell_type": "code",
   "execution_count": null,
   "id": "e22c4ad9-8e6f-454b-a4a4-cf7bf21bccad",
   "metadata": {},
   "outputs": [],
   "source": []
  }
 ],
 "metadata": {
  "kernelspec": {
   "display_name": "geoexplorer",
   "language": "python",
   "name": "python3"
  },
  "language_info": {
   "codemirror_mode": {
    "name": "ipython",
    "version": 3
   },
   "file_extension": ".py",
   "mimetype": "text/x-python",
   "name": "python",
   "nbconvert_exporter": "python",
   "pygments_lexer": "ipython3",
   "version": "3.10.16"
  }
 },
 "nbformat": 4,
 "nbformat_minor": 5
}
