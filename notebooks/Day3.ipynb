{
 "cells": [
  {
   "cell_type": "markdown",
   "id": "bdd5ea47-4893-4b7a-be15-930a987e6919",
   "metadata": {},
   "source": [
    "# Day 3\n",
    "\n",
    "## Part 1. Basics"
   ]
  },
  {
   "cell_type": "code",
   "execution_count": null,
   "id": "9a4712df",
   "metadata": {},
   "outputs": [],
   "source": [
    "# always remember the philosophy of python\n",
    "import this"
   ]
  },
  {
   "cell_type": "markdown",
   "id": "f9cf1e85-5fff-4e5a-9158-cb9a130a00cd",
   "metadata": {},
   "source": [
    "### Using enumerate\n",
    "Sometimes we need to work with both the index and value of the sequence we iterate on. To do that, we can encompass the sequence inside enumerate. That way, each value becomes a tuple of the form (index,value). For example, we are going to use enumerate when stacking raster bands from separate files (see Stacking raster bands), where the for loop requires both:\n",
    "\n",
    "- the value (file name to read from), and\n",
    "\n",
    "- the index (index of the raster band to write into)."
   ]
  },
  {
   "cell_type": "code",
   "execution_count": null,
   "id": "3dd8f24d-a3bc-4cc9-b6de-ec7382d08ad0",
   "metadata": {},
   "outputs": [],
   "source": [
    "fruits = ['Orange', 'Banana', 'Mango', 'Apple']\n",
    "for i in enumerate(fruits):\n",
    "    print(i)"
   ]
  },
  {
   "cell_type": "code",
   "execution_count": null,
   "id": "730317fa-937c-480c-85e5-fa27abc51efb",
   "metadata": {},
   "outputs": [],
   "source": [
    "# Here is the last value of i:\n",
    "i"
   ]
  },
  {
   "cell_type": "code",
   "execution_count": null,
   "id": "609949be-3001-460d-90eb-0ff6f3e99fb5",
   "metadata": {},
   "outputs": [],
   "source": [
    "for i in enumerate(fruits, start=1):\n",
    "    print(i)"
   ]
  },
  {
   "cell_type": "markdown",
   "id": "a9eca55c-5141-4742-b2f7-2ac914892d80",
   "metadata": {},
   "source": [
    "# The range function\n",
    "## The range function is used to generate a sequence of values, given:\n",
    "\n",
    "- start—Start value (inclusive), default is 0\n",
    "\n",
    "- stop—Stop value (exclusive)\n",
    "\n",
    "- step—Step size, default is 1\n",
    "\n",
    "\n",
    "The range function is commonly used with for loops (see for loops), to iterate over a sequence of numbers. For example:"
   ]
  },
  {
   "cell_type": "code",
   "execution_count": null,
   "id": "87af1ec3-e999-477e-9893-8164fba8c7d9",
   "metadata": {},
   "outputs": [],
   "source": [
    "for i in range(5):\n",
    "    print(i)"
   ]
  },
  {
   "cell_type": "code",
   "execution_count": null,
   "id": "b52de1c5-74fb-46b8-9eac-4cce4680e8f0",
   "metadata": {},
   "outputs": [],
   "source": [
    "range(5)"
   ]
  },
  {
   "cell_type": "code",
   "execution_count": null,
   "id": "75bd2252-0ba5-4b92-aa16-3dfc30315471",
   "metadata": {},
   "outputs": [],
   "source": [
    "# To “force” the generation of all values at once, we can wrap the range object inside a list:\n",
    "\n",
    "list(range(5))"
   ]
  },
  {
   "cell_type": "markdown",
   "id": "1fe8a8ff-5dd2-4f46-b25f-0c6faca0210b",
   "metadata": {},
   "source": [
    "# Part 2. Table reshaping and joins\n",
    "\n",
    "**We may need to aggregate, or to reshape, tables into a different form, or to combine numerous tables into one. In this chapter, we cover some of the common table operations which involve modifying table structure or combining multiple tables.**\n",
    "- Combining may simply involve “pasting”, or concatenating, two tables one on top of the other, or side-by-side (see Concatenation).\n",
    "\n",
    "- In more complex cases, combining involves a table join, where the information from two tables is combined according to one or more “key” columns which are common to both tables (see Joining tables).\n",
    "\n",
    "- Moreover, we may need to summarize the values of a table according to a particular grouping, which is known as aggregation (see Aggregation).\n",
    "\n",
    "- A special type of aggregation is applying a function across each row, or each column, of a table (Row/col-wise operations)."
   ]
  },
  {
   "cell_type": "code",
   "execution_count": null,
   "id": "2f14f72c-5343-4137-87d1-ea29bd8d4d9f",
   "metadata": {},
   "outputs": [],
   "source": [
    "#Sample data"
   ]
  },
  {
   "cell_type": "code",
   "execution_count": null,
   "id": "ba322259-84f6-4aa3-8285-0baab1a6eb38",
   "metadata": {},
   "outputs": [],
   "source": [
    "import numpy as np\n",
    "import pandas as pd\n"
   ]
  },
  {
   "cell_type": "code",
   "execution_count": null,
   "id": "3cb844bb",
   "metadata": {},
   "outputs": [],
   "source": [
    "name = pd.Series(['abc-Sheva Center', 'abc-Sheva University', 'Dimona'])\n"
   ]
  },
  {
   "cell_type": "code",
   "execution_count": null,
   "id": "bd2709ba",
   "metadata": {},
   "outputs": [],
   "source": [
    "city = pd.Series(['abc-Sheva', 'abc-Sheva', 'Dimona'])\n"
   ]
  },
  {
   "cell_type": "code",
   "execution_count": null,
   "id": "67453dc1",
   "metadata": {},
   "outputs": [],
   "source": [
    "lines = pd.Series([4, 5, 1])\n"
   ]
  },
  {
   "cell_type": "code",
   "execution_count": null,
   "id": "120b8fec",
   "metadata": {},
   "outputs": [],
   "source": [
    "piano = pd.Series([False, True, False])\n"
   ]
  },
  {
   "cell_type": "code",
   "execution_count": null,
   "id": "e2957bdf",
   "metadata": {},
   "outputs": [],
   "source": [
    "lon = pd.Series([34.798443, 34.812831, 35.011635])\n",
    "lat = pd.Series([31.243288, 31.260284, 31.068616])\n"
   ]
  },
  {
   "cell_type": "code",
   "execution_count": null,
   "id": "398890c8",
   "metadata": {},
   "outputs": [],
   "source": [
    "d = {'name': name, 'city': city, 'lines': lines, 'piano': piano, 'lon': lon, 'lat': lat}\n"
   ]
  },
  {
   "cell_type": "code",
   "execution_count": null,
   "id": "a5a43069",
   "metadata": {},
   "outputs": [],
   "source": [
    "stations = pd.DataFrame(d)\n"
   ]
  },
  {
   "cell_type": "code",
   "execution_count": null,
   "id": "8f2b4123",
   "metadata": {},
   "outputs": [],
   "source": [
    "stations"
   ]
  },
  {
   "cell_type": "markdown",
   "id": "dcd409ba-a431-4744-99a2-e24cd7e7354e",
   "metadata": {},
   "source": [
    "We will also load the sample climatic data which we are also familiar with from the previous chapter (Reading from file), into a DataFrame named dat:"
   ]
  },
  {
   "cell_type": "code",
   "execution_count": null,
   "id": "34f49e98-7cc3-4513-b8ab-c47311519003",
   "metadata": {},
   "outputs": [],
   "source": [
    "# The file named ZonAnn.Ts+dSST.csv, which contains global temperature data from GISS. The values are anomalies, i.e. deviations from the corresponding 1951-1980 mean, for the period 1880-2021 (\"Year\"), both globally (\"Glob\") and for specific latitudes (\"NHem\"=Nothern Hemishpere, \"24N-90N\" latitudes 24-90, etc.):"
   ]
  },
  {
   "cell_type": "code",
   "execution_count": null,
   "id": "be6c22b0-84ae-47c9-befa-28cc0dc4f13d",
   "metadata": {},
   "outputs": [],
   "source": [
    "dat = pd.read_csv('ZonAnn.Ts+dSST.csv')\n",
    "dat"
   ]
  },
  {
   "cell_type": "markdown",
   "id": "69d4f737-d4f8-418c-a09d-825320cdfaff",
   "metadata": {},
   "source": [
    "DataFrame properties\n",
    "Overview\n",
    "One of the first things we may want to do with a DataFrame imported from a file is to examine its properties, as shown in the next few sections:\n",
    "\n",
    "- DataFrame dimensions\n",
    "\n",
    "- DataFrame column names\n",
    "\n",
    "- DataFrame column types"
   ]
  },
  {
   "cell_type": "code",
   "execution_count": null,
   "id": "8f223591-1aa8-47a7-95fd-02fd0a5f4ec2",
   "metadata": {},
   "outputs": [],
   "source": [
    "# DataFrame dimensions"
   ]
  },
  {
   "cell_type": "code",
   "execution_count": null,
   "id": "8c9cdb43-a507-4dde-86fc-e02d769e96f9",
   "metadata": {},
   "outputs": [],
   "source": [
    "dat.shape"
   ]
  },
  {
   "cell_type": "code",
   "execution_count": null,
   "id": "db139a77-74b2-41ed-bf20-d1ee4568593f",
   "metadata": {},
   "outputs": [],
   "source": [
    "# DataFrame column names"
   ]
  },
  {
   "cell_type": "code",
   "execution_count": null,
   "id": "c209d299-2ed9-44e5-beec-cc09f910a9af",
   "metadata": {},
   "outputs": [],
   "source": [
    "dat.columns"
   ]
  },
  {
   "cell_type": "markdown",
   "id": "4693d464-e308-4b19-b4e7-c73e2640e641",
   "metadata": {},
   "source": [
    "## DataFrame column types\n",
    "The data types (see Data types) of the columns are contained in the dtypes property:"
   ]
  },
  {
   "cell_type": "code",
   "execution_count": null,
   "id": "7c07cc6a-5adc-4fcc-a42d-ac7b6e84ff37",
   "metadata": {},
   "outputs": [],
   "source": [
    "dat.dtypes"
   ]
  },
  {
   "cell_type": "code",
   "execution_count": null,
   "id": "1b3974c5-37f5-427e-8cc3-d5ae089f0eca",
   "metadata": {},
   "outputs": [],
   "source": [
    "dat.dtypes.loc['Year']"
   ]
  },
  {
   "cell_type": "code",
   "execution_count": null,
   "id": "de889c1d-f3fe-4f55-9401-bda5dfc03f2c",
   "metadata": {},
   "outputs": [],
   "source": [
    "# the \"Glob\" column (global temperature anomaly) was imported into a float64 column:\n",
    "\n",
    "dat.dtypes.loc['Glob']"
   ]
  },
  {
   "cell_type": "markdown",
   "id": "e73a7cb0-0e63-4495-9b77-214d8854cab1",
   "metadata": {},
   "source": [
    "## Renaming columns"
   ]
  },
  {
   "cell_type": "markdown",
   "id": "c40b3483-8083-4830-b279-31e9e841dc5e",
   "metadata": {},
   "source": [
    "Sometimes it is necessary to rename DataFrame columns. For example, we may wish to use shorter names which are easier to type, or make the columns match another table we are working with. Columns can be renamed using the .rename method, which accepts a columns argument of the form {'old_name':'new_name',...}. For example, here is how we can replace the 'Year' column name with lowercase 'year':"
   ]
  },
  {
   "cell_type": "code",
   "execution_count": null,
   "id": "412e6b0c-5e5d-498a-9749-ff8988565094",
   "metadata": {},
   "outputs": [],
   "source": [
    "dat.rename(columns={'Year': 'year'})"
   ]
  },
  {
   "cell_type": "markdown",
   "id": "d74448a5-bb41-420d-a8c1-459bb19ce0a1",
   "metadata": {},
   "source": [
    "# using the index parameter of pd.Series:\n",
    "- .loc—For subsetting using the Series index\n",
    "\n",
    "- .iloc—For subsetting using the (implicit) numpy index"
   ]
  },
  {
   "cell_type": "code",
   "execution_count": null,
   "id": "8cf57a14-34dc-4a1a-b183-b4809578aef0",
   "metadata": {},
   "outputs": [],
   "source": [
    "s = pd.Series([11, 12, 13, 14], index=['a', 'b', 'c', 'd'])\n",
    "s"
   ]
  },
  {
   "cell_type": "code",
   "execution_count": null,
   "id": "27d5d56d-bbc6-4fc7-adbe-3bcfa8eca2f4",
   "metadata": {},
   "outputs": [],
   "source": [
    "# Here is how we can use .loc to select values using the three above-mentioned types of indices:"
   ]
  },
  {
   "cell_type": "code",
   "execution_count": null,
   "id": "50ce90ca-8ba4-430f-83ec-35bdddcc2e8b",
   "metadata": {},
   "outputs": [],
   "source": [
    "s.loc['a']         ## Individual index"
   ]
  },
  {
   "cell_type": "code",
   "execution_count": null,
   "id": "bd215a08-e492-43a2-b454-3292213283b9",
   "metadata": {},
   "outputs": [],
   "source": [
    "s.loc['b':'c']     ## Slice"
   ]
  },
  {
   "cell_type": "code",
   "execution_count": null,
   "id": "87e78f9b-8a09-4067-a478-0d0f28bdddc8",
   "metadata": {},
   "outputs": [],
   "source": [
    "s.loc[['a', 'c']]  ## 'list' of indices"
   ]
  },
  {
   "cell_type": "code",
   "execution_count": null,
   "id": "49e55545-fc6b-4f01-bbb2-3bac281ea2d4",
   "metadata": {},
   "outputs": [],
   "source": [
    "# And here is how we can use .iloc to select values using numpy-style numeric indices"
   ]
  },
  {
   "cell_type": "code",
   "execution_count": null,
   "id": "ea8e4944-c661-4ea2-a8cc-0c8be9a77a7d",
   "metadata": {},
   "outputs": [],
   "source": [
    "s.iloc[0]       ## Individual index"
   ]
  },
  {
   "cell_type": "code",
   "execution_count": null,
   "id": "b10ed3d4-3ffe-483c-8ae0-2cab43852c65",
   "metadata": {},
   "outputs": [],
   "source": [
    "s.iloc[1:2]     ## Slice"
   ]
  },
  {
   "cell_type": "code",
   "execution_count": null,
   "id": "da4cb37d-50ea-4e2a-a2ae-009b45caa32d",
   "metadata": {},
   "outputs": [],
   "source": [
    "s.iloc[[0, 2]]  ## 'list' of indices"
   ]
  },
  {
   "cell_type": "code",
   "execution_count": null,
   "id": "8209577a-0ff7-4b2d-843a-e9f12ed5dffc",
   "metadata": {},
   "outputs": [],
   "source": [
    "# For example, this is how we can use .loc to extract one DataFrame column as a Series:"
   ]
  },
  {
   "cell_type": "code",
   "execution_count": null,
   "id": "c4d3d190-6dda-413b-9c23-ee10a08685fc",
   "metadata": {},
   "outputs": [],
   "source": [
    "dat.loc[:, 'Glob']"
   ]
  },
  {
   "cell_type": "code",
   "execution_count": null,
   "id": "41787b4b-e793-4961-b724-c4cd6bfecf74",
   "metadata": {},
   "outputs": [],
   "source": [
    "#  here is how we can extract a single column as a DataFrame:\n",
    "dat.loc[:, ['Glob']]"
   ]
  },
  {
   "cell_type": "code",
   "execution_count": null,
   "id": "797db24c-c208-4648-bd30-43f52d8757b4",
   "metadata": {},
   "outputs": [],
   "source": [
    "# We can pass a list of column names to select more then one column. For example:\n",
    "\n",
    "dat[['Year', 'Glob', 'NHem', 'SHem']]"
   ]
  },
  {
   "cell_type": "code",
   "execution_count": null,
   "id": "5b5c54c9-6610-4cf2-b964-98bb769feb34",
   "metadata": {},
   "outputs": [],
   "source": [
    "# To select all columns except for the specified ones, we can use the .drop method combined with axis=1:"
   ]
  },
  {
   "cell_type": "code",
   "execution_count": null,
   "id": "52fae7d1-c55d-4ca0-9715-56eede9ce8e0",
   "metadata": {},
   "outputs": [],
   "source": [
    "dat.drop(['Year', 'Glob', 'NHem', 'SHem', '24N-90N', '24S-24N', '90S-24S'], axis=1)\n",
    "dat"
   ]
  },
  {
   "cell_type": "markdown",
   "id": "fe415d5b-e2b7-4034-abe8-8213c6ef6daf",
   "metadata": {},
   "source": [
    "### Another useful technique is to use .loc combined with slices of column names. For example, we can select all columns between two specified ones:"
   ]
  },
  {
   "cell_type": "code",
   "execution_count": null,
   "id": "e681f84d-9325-4a28-9c91-0e6d00ac4fa0",
   "metadata": {},
   "outputs": [],
   "source": [
    "dat.loc[:, 'Year':'SHem']"
   ]
  },
  {
   "cell_type": "code",
   "execution_count": null,
   "id": "272aa65f-dfba-4553-898f-45d29ea91d11",
   "metadata": {},
   "outputs": [],
   "source": [
    "dat.loc[:, :'SHem']"
   ]
  },
  {
   "cell_type": "code",
   "execution_count": null,
   "id": "cbba7607-67c1-48f2-89b4-afdddb5f66c3",
   "metadata": {},
   "outputs": [],
   "source": [
    "dat.loc[:, 'SHem':]"
   ]
  },
  {
   "cell_type": "markdown",
   "id": "f8152d92-3c87-43c3-9046-aaad38371b63",
   "metadata": {},
   "source": [
    "### Selecting DataFrame rows"
   ]
  },
  {
   "cell_type": "code",
   "execution_count": null,
   "id": "a6e544a6-5dee-4c5a-934b-4f37019529ef",
   "metadata": {},
   "outputs": [],
   "source": [
    "dat.iloc[[0], :]     ## 1st row"
   ]
  },
  {
   "cell_type": "code",
   "execution_count": null,
   "id": "6f6ac769-7261-41e7-b2a9-45a15e44233d",
   "metadata": {},
   "outputs": [],
   "source": [
    "dat.iloc[0:3, :]     ## 1st row (inclusive) to 4th row (exclusive)"
   ]
  },
  {
   "cell_type": "code",
   "execution_count": null,
   "id": "ea00b199-35c5-49f0-9f7e-3537d547241b",
   "metadata": {},
   "outputs": [],
   "source": [
    "dat.iloc[[0, 2], :]  ## 1st and 3rd rows"
   ]
  },
  {
   "cell_type": "code",
   "execution_count": null,
   "id": "0ccfb79e-ee13-4a7d-a301-d25f3dbd7891",
   "metadata": {},
   "outputs": [],
   "source": [
    "# Selecting rows and columns"
   ]
  },
  {
   "cell_type": "code",
   "execution_count": null,
   "id": "3b9ad82c-ed47-4d0c-a13d-6d11c4fa795a",
   "metadata": {},
   "outputs": [],
   "source": [
    "dat.iloc[0:4, 0:4]"
   ]
  },
  {
   "cell_type": "code",
   "execution_count": null,
   "id": "0a8a2628-5929-41f3-9c46-1e148cc84234",
   "metadata": {},
   "outputs": [],
   "source": [
    "dat.loc[:, 'Year':'SHem'].iloc[0:4, :]"
   ]
  },
  {
   "cell_type": "markdown",
   "id": "d12dd2cf-3387-4c60-ba00-2aa8127b3081",
   "metadata": {},
   "source": [
    "### Selecting DataFrame values\n",
    "` Using the above-mentioned methods, we can access individual values from a DataFrame in several ways. The clearest syntax is probably splitting the operation into two parts: first selecting the column, then selecting the index within the column. For example, here is how we can get the first value in the \"Year\" column of dat`"
   ]
  },
  {
   "cell_type": "code",
   "execution_count": null,
   "id": "264d18e4-3326-456a-9fb4-28a83dc616f4",
   "metadata": {},
   "outputs": [],
   "source": [
    "dat['Year'].iloc[0]"
   ]
  },
  {
   "cell_type": "code",
   "execution_count": null,
   "id": "4861bc0b-422b-42e8-9bfe-7166b7030c84",
   "metadata": {},
   "outputs": [],
   "source": [
    "# Plotting (pandas)\n",
    "# Histograms (pandas)\n",
    "# pandas has several methods to visualize the information in a Series or a DataFrame"
   ]
  },
  {
   "cell_type": "code",
   "execution_count": null,
   "id": "50dd1445-37da-4812-9cf7-1af5d6bebeda",
   "metadata": {},
   "outputs": [],
   "source": [
    "dat[['Glob', 'SHem', 'NHem']].hist();"
   ]
  },
  {
   "cell_type": "code",
   "execution_count": null,
   "id": "43117261-49ae-4148-8284-5dc00de05a0d",
   "metadata": {},
   "outputs": [],
   "source": [
    "# Line plots (pandas)\n",
    "dat['Glob'].plot();\n"
   ]
  },
  {
   "cell_type": "code",
   "execution_count": null,
   "id": "70d8fe02-8d52-44f6-b46b-e05c11980242",
   "metadata": {},
   "outputs": [],
   "source": [
    "dat.set_index('Year')['Glob'].plot();"
   ]
  },
  {
   "cell_type": "markdown",
   "id": "6973eaf4-5ed0-4aef-af16-c1299dd37283",
   "metadata": {},
   "source": [
    "When we plot a DataFrame with more than one column, the columns are plotted as sepatate series in the same line plot. This is useful to compare the values in different columns. Fore example, plotting the \"Glob\", \"NHem\", and \"SHem\" columns demonstrates that in recent years Northern Hemisphere (\"NHem\") temperatures have been relatively higher, while Southern Hemisphere (\"SHem\") temperatures have been relatively lower, compared to the global average (\"Glob\"):"
   ]
  },
  {
   "cell_type": "code",
   "execution_count": null,
   "id": "7cfd537c-2ab2-401e-8c6b-6587c34e8b00",
   "metadata": {},
   "outputs": [],
   "source": [
    "dat.set_index('Year')[['Glob', 'NHem', 'SHem']].plot();"
   ]
  },
  {
   "cell_type": "markdown",
   "id": "0381ef2d-e1cf-46a2-af4e-755f8d6a4b27",
   "metadata": {},
   "source": [
    "### Scatterplots (pandas)\n",
    "### One more useful type of plot is a scatterplot, where we display the association between two series in the form of scattered points. "
   ]
  },
  {
   "cell_type": "code",
   "execution_count": null,
   "id": "2e0e5bc7-2284-413a-a6c0-4e6a63025397",
   "metadata": {},
   "outputs": [],
   "source": [
    "dat.plot.scatter(x='NHem', y='SHem');"
   ]
  },
  {
   "cell_type": "code",
   "execution_count": null,
   "id": "ff4468e4-0f28-4108-a6c6-e7d986c74f3c",
   "metadata": {},
   "outputs": [],
   "source": [
    "# Operators and summary functions can be applied to Series objects\n"
   ]
  },
  {
   "cell_type": "code",
   "execution_count": null,
   "id": "93493bc5-3342-4bc6-99b0-8350bee14504",
   "metadata": {},
   "outputs": [],
   "source": [
    "dat['Year'].min()\n",
    "\n"
   ]
  },
  {
   "cell_type": "code",
   "execution_count": null,
   "id": "fff1b2db-a116-407e-bf28-3e866a741e6a",
   "metadata": {},
   "outputs": [],
   "source": [
    "dat['Year'].max()\n",
    "\n",
    "\n"
   ]
  },
  {
   "cell_type": "code",
   "execution_count": null,
   "id": "c89221fa-d608-46d4-805f-fb583f5db4ff",
   "metadata": {},
   "outputs": [],
   "source": [
    "dat['Glob'].mean()"
   ]
  },
  {
   "cell_type": "code",
   "execution_count": null,
   "id": "848135dd-cf01-48e6-a9ff-c29eec0b5e18",
   "metadata": {},
   "outputs": [],
   "source": [
    "dat['Year'] - 1"
   ]
  },
  {
   "cell_type": "code",
   "execution_count": null,
   "id": "7fc16fe1-e26b-4623-9686-5b4ed44d10ab",
   "metadata": {},
   "outputs": [],
   "source": [
    "# here is how we can calculate the yearly differences between the Northern Hemisphere and Southern Hemisphere temperature anomalies:\n",
    "\n",
    "dat['NHem'] - dat['SHem']"
   ]
  },
  {
   "cell_type": "code",
   "execution_count": null,
   "id": "4bda48fc-0552-494c-8a74-31888d5abb99",
   "metadata": {},
   "outputs": [],
   "source": [
    "dat - 10"
   ]
  },
  {
   "cell_type": "code",
   "execution_count": null,
   "id": "421a6f67-d238-4a83-b4c7-5d8d1d165f3c",
   "metadata": {},
   "outputs": [],
   "source": [
    "# Creating new columns"
   ]
  },
  {
   "cell_type": "code",
   "execution_count": null,
   "id": "8566f2a7-17de-409b-b050-fd336ced665f",
   "metadata": {},
   "outputs": [],
   "source": [
    "dat['diff'] = dat['NHem'] - dat['SHem']\n",
    "dat"
   ]
  },
  {
   "cell_type": "code",
   "execution_count": null,
   "id": "512dfa3b-4afc-4dc4-8cd3-17ffbf2540cf",
   "metadata": {},
   "outputs": [],
   "source": [
    "dat.set_index('Year')['diff'].plot();"
   ]
  },
  {
   "cell_type": "code",
   "execution_count": null,
   "id": "c4bbaff6-3797-4780-9d28-606aa4b1d1a6",
   "metadata": {},
   "outputs": [],
   "source": [
    "# We can also assign an expression that combines series with individual values:\n",
    "dat['NHem2'] = dat['NHem'] * 2\n",
    "dat"
   ]
  },
  {
   "cell_type": "code",
   "execution_count": null,
   "id": "f4621fc0-5eb0-4aa4-ba43-f801af0ae912",
   "metadata": {},
   "outputs": [],
   "source": [
    "dat['variable'] = 'temperature'\n",
    "dat"
   ]
  },
  {
   "cell_type": "code",
   "execution_count": null,
   "id": "1387ef2c-ee66-4857-beed-0243ddc92707",
   "metadata": {},
   "outputs": [],
   "source": [
    "# Let us delete the 'diff', 'NHem2', 'variable' columns we just created to get the original version of dat:\n",
    "\n",
    "dat = dat.drop(['diff', 'NHem2', 'variable'], axis=1)\n",
    "dat"
   ]
  },
  {
   "cell_type": "markdown",
   "id": "dd0f6f2b-32e6-4a32-82f7-a12027b966bd",
   "metadata": {},
   "source": [
    "### Working with missing data (pandas)\n",
    "\n",
    "Missing values, denoting that the true value is unknown, are an inevitable feature of real-world data. In plain-text formats, such as CSV, missing values are commonly just “missing”, i.e., left blank, or marked with a labels such as the text \"NA\"."
   ]
  },
  {
   "cell_type": "code",
   "execution_count": null,
   "id": "f8705108-5db3-4239-a9cf-2145db8d7652",
   "metadata": {},
   "outputs": [],
   "source": [
    "pd.Series([7, 4, 3])"
   ]
  },
  {
   "cell_type": "code",
   "execution_count": null,
   "id": "eee33b6a-8601-4296-80f9-6a22ed315e72",
   "metadata": {},
   "outputs": [],
   "source": [
    "pd.Series([7, np.nan, 3]\n",
    "         )"
   ]
  },
  {
   "cell_type": "code",
   "execution_count": null,
   "id": "8e08172b-2104-43e4-b7c0-0c614bd59cd4",
   "metadata": {},
   "outputs": [],
   "source": [
    "pd.Series([7, None, 3]\n",
    "         )"
   ]
  },
  {
   "cell_type": "code",
   "execution_count": null,
   "id": "327acde1-7ab5-40df-9d0e-97b88cd3e869",
   "metadata": {},
   "outputs": [],
   "source": [
    "pd.Series([7, None, 3]\n",
    "         ).isna()"
   ]
  },
  {
   "cell_type": "code",
   "execution_count": null,
   "id": "ea80a1c5-4d10-4cb9-aeae-704f51105524",
   "metadata": {},
   "outputs": [],
   "source": [
    "pd.Series([7, None, 3]\n",
    "         ).isna()"
   ]
  },
  {
   "cell_type": "code",
   "execution_count": null,
   "id": "978d361e-f8f3-4679-b21b-55e5801180bc",
   "metadata": {},
   "outputs": [],
   "source": [
    "~pd.Series([7, None, 3]\n",
    "         ).isna()"
   ]
  },
  {
   "cell_type": "code",
   "execution_count": null,
   "id": "b562035f-20ab-4a47-9a2f-f09555c6f391",
   "metadata": {},
   "outputs": [],
   "source": [
    "pd.Series([7, None, 3]).dropna()"
   ]
  },
  {
   "cell_type": "code",
   "execution_count": null,
   "id": "9061b4fc-3521-488c-891a-a1852e5412f4",
   "metadata": {},
   "outputs": [],
   "source": [
    "pd.Series([7, None, 3]).sum()"
   ]
  },
  {
   "cell_type": "markdown",
   "id": "ab55a3f0-1c9a-4155-9e5a-73180ed102f1",
   "metadata": {},
   "source": [
    "# Part 2 \n",
    "\n",
    "# 🧭 GeoPandas Tutorial"
   ]
  },
  {
   "cell_type": "markdown",
   "id": "b23fa973",
   "metadata": {},
   "source": [
    "## Map Projections\n",
    "\n",
    "- **Map Projections** (using `geopandas` and `geodatasets`)\n",
    "- **Spatial Relationships** (using only in-code geometries)"
   ]
  },
  {
   "cell_type": "code",
   "execution_count": null,
   "id": "f15c74c4",
   "metadata": {},
   "outputs": [],
   "source": [
    "# 🗺️ Part 1: Map Projections (with `geopandas` + `geodatasets`)\n",
    "\n",
    "# 📦 Prerequisites\n",
    "\n",
    "\n",
    "import geopandas as gpd\n",
    "import geodatasets\n",
    "import matplotlib.pyplot as plt\n"
   ]
  },
  {
   "cell_type": "code",
   "execution_count": null,
   "id": "950d40fe",
   "metadata": {},
   "outputs": [],
   "source": [
    "\n",
    "# Path to your shapefile (make sure it's correct)\n",
    "shapefile_path = \"ne_110m_admin_0_countries.shp\"\n",
    "\n",
    "# Load the shapefile into a GeoDataFrame\n",
    "gdf = gpd.read_file(shapefile_path)\n",
    "\n",
    "# Display the first few rows of the GeoDataFrame to inspect the data\n",
    "print(gdf.head())\n",
    "\n",
    "# Check the CRS of the GeoDataFrame\n",
    "print(\"CRS of the dataset:\", gdf.crs)\n"
   ]
  },
  {
   "cell_type": "code",
   "execution_count": null,
   "id": "ee0fa5a5",
   "metadata": {},
   "outputs": [],
   "source": [
    "# 2: Reproject to UTM Zone 33N (EPSG:32633)\n",
    "import geopandas as gpd\n",
    "import matplotlib.pyplot as plt\n",
    "\n",
    "# Path to your shapefile (replace with your actual path)\n",
    "shapefile_path = \"ne_110m_admin_0_countries.shp\"\n",
    "\n",
    "# Load the shapefile into a GeoDataFrame\n",
    "gdf = gpd.read_file(shapefile_path)\n",
    "\n",
    "# Reproject the GeoDataFrame to UTM Zone 33N (EPSG:32633)\n",
    "gdf_utm = gdf.to_crs(epsg=32633)\n",
    "\n",
    "\n"
   ]
  },
  {
   "cell_type": "code",
   "execution_count": null,
   "id": "49656364",
   "metadata": {},
   "outputs": [],
   "source": [
    "# Create a figure with two subplots (side by side)\n",
    "fig, ax = plt.subplots(1, 2, figsize=(14, 7))\n",
    "\n",
    "# Plot the original CRS (EPSG:4326)\n",
    "gdf.plot(ax=ax[0], color='lightgreen')\n",
    "ax[0].set_title('Original: EPSG 4326 (WGS84)')\n",
    "\n",
    "# Plot the reprojected CRS (EPSG:32633)\n",
    "gdf_utm.plot(ax=ax[1], color='skyblue')\n",
    "ax[1].set_title('Reprojected: EPSG 32633 (UTM Zone 33N)')\n",
    "\n"
   ]
  },
  {
   "cell_type": "code",
   "execution_count": null,
   "id": "03dbf5f0",
   "metadata": {},
   "outputs": [],
   "source": [
    "# Show the plot\n",
    "plt.tight_layout()\n",
    "plt.show()"
   ]
  },
  {
   "cell_type": "code",
   "execution_count": null,
   "id": "3aad6675",
   "metadata": {},
   "outputs": [],
   "source": [
    "import geodatasets\n",
    "\n",
    "# Print all available dataset names\n",
    "print(geodatasets.data)\n"
   ]
  },
  {
   "cell_type": "code",
   "execution_count": null,
   "id": "b1ff4efb",
   "metadata": {},
   "outputs": [],
   "source": [
    "# 3: Plot Map in Two Projections\n",
    "\n",
    "# Path to your shapefile (replace with your actual path)\n",
    "shapefile_path = \"ne_110m_admin_0_countries.shp\"\n",
    "\n",
    "# Load the shapefile into a GeoDataFrame\n",
    "world = gpd.read_file(shapefile_path)\n",
    "\n",
    "world_mercator = world.to_crs(epsg=3857)\n",
    "\n",
    "fig, ax = plt.subplots(1, 2, figsize=(12, 6))\n",
    "world.plot(ax=ax[0], color='lightgreen')\n",
    "ax[0].set_title('Original: EPSG 4326')\n",
    "\n",
    "world_mercator.plot(ax=ax[1], color='skyblue')\n",
    "ax[1].set_title('Reprojected: EPSG 3857')\n",
    "\n",
    "plt.show()\n"
   ]
  },
  {
   "cell_type": "code",
   "execution_count": null,
   "id": "db446d43",
   "metadata": {},
   "outputs": [],
   "source": [
    "# 4: Calculate Area After Reprojection\n",
    "world_proj = world.to_crs(epsg=3857)\n",
    "world_proj[\"area_m2\"] = world_proj.geometry.area\n",
    "\n"
   ]
  },
  {
   "cell_type": "code",
   "execution_count": null,
   "id": "7d9a9c88",
   "metadata": {},
   "outputs": [],
   "source": [
    "print(world_proj[['NAME', 'area_m2']].sort_values(by='area_m2', ascending=False).head())"
   ]
  },
  {
   "cell_type": "code",
   "execution_count": null,
   "id": "53e909eb",
   "metadata": {},
   "outputs": [],
   "source": [
    "import geopandas as gpd\n",
    "\n",
    "# Paths to your shapefiles (replace with the actual file paths)\n",
    "countries_shapefile = \"ne_110m_admin_0_countries.shp\"\n",
    "populated_places_shapefile = \"ne_110m_populated_places.shp\"\n",
    "\n",
    "# Load both shapefiles into GeoDataFrames\n",
    "countries_gdf = gpd.read_file(countries_shapefile)\n",
    "populated_places_gdf = gpd.read_file(populated_places_shapefile)\n",
    "\n",
    "# Print CRS of both GeoDataFrames\n",
    "print(\"Countries CRS:\", countries_gdf.crs)\n",
    "print(\"Populated Places CRS:\", populated_places_gdf.crs)\n",
    "\n"
   ]
  },
  {
   "cell_type": "code",
   "execution_count": null,
   "id": "670f807d",
   "metadata": {},
   "outputs": [],
   "source": [
    "# Reproject populated places to match countries CRS if necessary\n",
    "if populated_places_gdf.crs != countries_gdf.crs:\n",
    "    populated_places_gdf = populated_places_gdf.to_crs(countries_gdf.crs)\n",
    "\n",
    "# Print the CRS again to confirm\n",
    "print(\"Reprojected Populated Places CRS:\", populated_places_gdf.crs)\n"
   ]
  },
  {
   "cell_type": "markdown",
   "id": "2e09f74b",
   "metadata": {},
   "source": [
    "## Spatial Relationship"
   ]
  },
  {
   "cell_type": "markdown",
   "id": "d2a5c68a",
   "metadata": {},
   "source": [
    "A spatial join uses binary predicates such as intersects and crosses to combine two GeoDataFrames based on the spatial relationship between their geometries."
   ]
  },
  {
   "cell_type": "markdown",
   "id": "857a4eab",
   "metadata": {},
   "source": [
    "**Spatial objects such as points, lines and polygons, may have one or more topological relationships such as contains, overlap, within, touches. The Python package Shapely, included in GeoPandas, implements such functions for points, lines and polygons.**"
   ]
  },
  {
   "cell_type": "code",
   "execution_count": null,
   "id": "e4038083",
   "metadata": {},
   "outputs": [],
   "source": [
    "from shapely.geometry import Point, Polygon"
   ]
  },
  {
   "cell_type": "code",
   "execution_count": null,
   "id": "52436745",
   "metadata": {},
   "outputs": [],
   "source": [
    "# within – Point Inside Polygon\n",
    "\n",
    "point = Point(1, 1)\n",
    "polygon = Polygon([(0, 0), (0, 2), (2, 2), (2, 0)])\n",
    "\n",
    "print(point.within(polygon))  # True\n"
   ]
  },
  {
   "cell_type": "code",
   "execution_count": null,
   "id": "2a29169a",
   "metadata": {},
   "outputs": [],
   "source": [
    "# intersects – Polygons Overlapping\n",
    "poly1 = Polygon([(0, 0), (0, 2), (2, 2), (2, 0)])\n",
    "poly2 = Polygon([(1, 1), (1, 3), (3, 3), (3, 1)])\n",
    "\n",
    "print(poly1.intersects(poly2))  # True\n"
   ]
  },
  {
   "cell_type": "code",
   "execution_count": null,
   "id": "649428f6",
   "metadata": {},
   "outputs": [],
   "source": [
    "# touches – Polygons Touching Edges\n",
    "poly1 = Polygon([(0, 0), (0, 1), (1, 1), (1, 0)])\n",
    "poly2 = Polygon([(1, 0), (1, 1), (2, 1), (2, 0)])\n",
    "\n",
    "print(poly1.touches(poly2))  # True\n"
   ]
  },
  {
   "cell_type": "code",
   "execution_count": null,
   "id": "2ce9f105",
   "metadata": {},
   "outputs": [],
   "source": [
    "# disjoint – Shapes Completely Separate\n",
    "poly1 = Polygon([(0, 0), (0, 1), (1, 1), (1, 0)])\n",
    "poly2 = Polygon([(2, 2), (2, 3), (3, 3), (3, 2)])\n",
    "\n",
    "print(poly1.disjoint(poly2))  # True\n"
   ]
  },
  {
   "cell_type": "code",
   "execution_count": null,
   "id": "4ef783b6",
   "metadata": {},
   "outputs": [],
   "source": [
    "# Using GeoDataFrames for Spatial Checks\n",
    "gdf1 = gpd.GeoDataFrame(geometry=[Polygon([(0, 0), (0, 2), (2, 2), (2, 0)])])\n",
    "gdf2 = gpd.GeoDataFrame(geometry=[Point(1, 1)])\n",
    "\n",
    "result = gdf2.geometry[0].within(gdf1.geometry[0])\n",
    "print(result)  # True\n"
   ]
  },
  {
   "cell_type": "markdown",
   "id": "6e9a1937",
   "metadata": {},
   "source": [
    "### Spatial Joins\n",
    "Spatial relations are used to merge two spatial datasets A and B in which each row of A and B contains spatial objects. The merge can be based on one topological relation such as “contains”, so that if object i of A contains object i of B, the value in one or more columns of B will be added to the object in A. We will not deal with spatial joins here since it’s an application of the topological relations."
   ]
  },
  {
   "cell_type": "code",
   "execution_count": null,
   "id": "9b5fbaa7-9ad9-4420-b8db-dcf1c9c04e1e",
   "metadata": {},
   "outputs": [],
   "source": [
    "import pandas as pd\n",
    "import geopandas"
   ]
  },
  {
   "cell_type": "code",
   "execution_count": null,
   "id": "1bc7c4cf-5250-4ba1-9608-79c0d0ef7c1a",
   "metadata": {},
   "outputs": [],
   "source": [
    "countries = geopandas.read_file(\"ne_110m_admin_0_countries.zip\")\n",
    "cities = geopandas.read_file(\"ne_110m_populated_places.zip\")\n",
    "rivers = geopandas.read_file(\"ne_50m_rivers_lake_centerlines.zip\")"
   ]
  },
  {
   "cell_type": "code",
   "execution_count": null,
   "id": "a049222a-6099-4c6b-88fe-4d4e4af6d82f",
   "metadata": {},
   "outputs": [],
   "source": [
    "belgium = countries.loc[countries['NAME'] == 'Belgium', 'geometry'].item()"
   ]
  },
  {
   "cell_type": "code",
   "execution_count": null,
   "id": "e58d39df-1962-4365-9ebf-af33d500c037",
   "metadata": {},
   "outputs": [],
   "source": [
    "paris = cities.loc[cities['NAME'] == 'Paris', 'geometry'].item()\n",
    "brussels = cities.loc[cities['NAME'] == 'Brussels', 'geometry'].item()"
   ]
  },
  {
   "cell_type": "code",
   "execution_count": null,
   "id": "97519dda-3bf3-440e-8937-041150b98b08",
   "metadata": {},
   "outputs": [],
   "source": [
    "from shapely.geometry import LineString\n",
    "line = LineString([paris, brussels])"
   ]
  },
  {
   "cell_type": "code",
   "execution_count": null,
   "id": "4b67be67-3a60-4a24-a437-a55eca49039a",
   "metadata": {},
   "outputs": [],
   "source": [
    "geopandas.GeoSeries([belgium, paris, brussels, line]).plot(cmap='tab10')"
   ]
  },
  {
   "cell_type": "code",
   "execution_count": null,
   "id": "4649b422-fffe-424b-b95f-1376816263c7",
   "metadata": {},
   "outputs": [],
   "source": [
    "brussels.within(belgium)"
   ]
  },
  {
   "cell_type": "code",
   "execution_count": null,
   "id": "08804cbd-460e-4343-9bb1-684ad8654dab",
   "metadata": {},
   "outputs": [],
   "source": [
    "belgium.contains(brussels)"
   ]
  },
  {
   "cell_type": "code",
   "execution_count": null,
   "id": "b5847eec-b196-461e-ab3b-470c3522169a",
   "metadata": {},
   "outputs": [],
   "source": [
    "belgium.contains(paris)"
   ]
  },
  {
   "cell_type": "code",
   "execution_count": null,
   "id": "12fafb9f-616f-4f48-9260-9fdda371813d",
   "metadata": {},
   "outputs": [],
   "source": [
    "paris.within(belgium)"
   ]
  },
  {
   "cell_type": "code",
   "execution_count": null,
   "id": "6fda1c81-13d9-4cf7-a5c5-ee06a698971c",
   "metadata": {},
   "outputs": [],
   "source": [
    "belgium.contains(line)"
   ]
  },
  {
   "cell_type": "code",
   "execution_count": null,
   "id": "6f8b945a-b60f-4b9c-adf2-d4c717c3e5d9",
   "metadata": {},
   "outputs": [],
   "source": [
    "line.intersects(belgium)"
   ]
  },
  {
   "cell_type": "code",
   "execution_count": null,
   "id": "556f5ee2-fd41-4190-97d8-a431abed309a",
   "metadata": {},
   "outputs": [],
   "source": [
    "countries.contains(paris)"
   ]
  },
  {
   "cell_type": "code",
   "execution_count": null,
   "id": "47c62539-1e1a-46d0-bb36-f1840165a5c8",
   "metadata": {},
   "outputs": [],
   "source": [
    "countries[countries.contains(paris)]"
   ]
  },
  {
   "cell_type": "code",
   "execution_count": null,
   "id": "8f510eba-1140-4424-a9e9-c8285b765c2f",
   "metadata": {},
   "outputs": [],
   "source": [
    "amazon = rivers[rivers['name'] == 'Amazonas'].geometry.item()"
   ]
  },
  {
   "cell_type": "code",
   "execution_count": null,
   "id": "d4818215-ee56-422c-9296-e859ca761946",
   "metadata": {},
   "outputs": [],
   "source": [
    "countries[countries.crosses(amazon)]  # or .intersects"
   ]
  },
  {
   "cell_type": "markdown",
   "id": "91611299-b3cc-4d26-8928-d3ea2ed21def",
   "metadata": {},
   "source": [
    "# Part 3: Introduction to Satellite Images and NDVI\n",
    "## This script introduces working with satellite imagery and calculating vegetation indices\n"
   ]
  },
  {
   "cell_type": "code",
   "execution_count": null,
   "id": "73f0b0b5-70be-449e-a909-002fa8155212",
   "metadata": {},
   "outputs": [],
   "source": [
    "import numpy as np\n",
    "import matplotlib.pyplot as plt\n",
    "from matplotlib.colors import ListedColormap\n"
   ]
  },
  {
   "cell_type": "code",
   "execution_count": null,
   "id": "3d18f688-74e9-4dba-a0f1-a013d25acaaa",
   "metadata": {},
   "outputs": [],
   "source": [
    "\n",
    "print(\"Welcome to Day 3: Satellite Images and NDVI!\")\n",
    "print(\"-------------------------------------------\")\n"
   ]
  },
  {
   "cell_type": "markdown",
   "id": "11af2203-7391-4e3f-a49f-8d6dac762bd2",
   "metadata": {},
   "source": [
    "## Working with Raster Data\n"
   ]
  },
  {
   "cell_type": "code",
   "execution_count": null,
   "id": "fe4e4de5-fa32-4b0e-9eff-c0df873a8bc2",
   "metadata": {},
   "outputs": [],
   "source": [
    "print(\"\\nPart 1: Understanding Satellite Image Bands\")\n",
    "print(\"------------------------------------------\")\n"
   ]
  },
  {
   "cell_type": "markdown",
   "id": "47fef617-1c20-45ea-bdc9-85ff9f1e98f1",
   "metadata": {},
   "source": [
    "### Simulating raster data (normally would use rasterio to read real satellite images)\n",
    "### We'll create synthetic red and near-infrared (NIR) bands\n",
    "### In real satellite images, these would be loaded from GeoTIFF files\n"
   ]
  },
  {
   "cell_type": "code",
   "execution_count": null,
   "id": "ce07e4e1-4eb1-4cff-9d89-68cf6fe47ee3",
   "metadata": {},
   "outputs": [],
   "source": [
    "# Create a 50x50 image with simulated red and NIR bands\n",
    "size = 50\n",
    "np.random.seed(42)  # For results\n"
   ]
  },
  {
   "cell_type": "code",
   "execution_count": null,
   "id": "a0db0a4e-3bea-4ec2-9d6b-ec4b04a7cdce",
   "metadata": {},
   "outputs": [],
   "source": [
    "# Create a synthetic landscape with forests, water, and urban areas\n",
    "# Lower red values and higher NIR values indicate healthy vegetation\n",
    "red_band = np.ones((size, size)) * 0.5  # Base red reflectance\n",
    "nir_band = np.ones((size, size)) * 0.5  # Base NIR reflectance\n"
   ]
  },
  {
   "cell_type": "code",
   "execution_count": null,
   "id": "94916d2a-6df2-43a7-a6af-c57803b3dbe7",
   "metadata": {},
   "outputs": [],
   "source": [
    "# Add \"forest\" area (low red, high NIR)\n",
    "# Trees absorb red light\n",
    "red_band[10:30, 10:40] = 0.1  \n",
    "\n",
    "# Trees reflect NIR\n",
    "nir_band[10:30, 10:40] = 0.8  \n"
   ]
  },
  {
   "cell_type": "code",
   "execution_count": null,
   "id": "072927fa-68ac-454b-b869-a5cc63715ff4",
   "metadata": {},
   "outputs": [],
   "source": [
    "# Add \"water\" area (low in both red and NIR)\n",
    "red_band[35:45, 5:45] = 0.05\n",
    "nir_band[35:45, 5:45] = 0.05\n"
   ]
  },
  {
   "cell_type": "code",
   "execution_count": null,
   "id": "8fdd777b-fa41-4326-8ab2-efd8a517f282",
   "metadata": {},
   "outputs": [],
   "source": [
    "# Add \"urban\" area (high in both red and NIR)\n",
    "red_band[5:15, 30:45] = 0.7\n",
    "nir_band[5:15, 30:45] = 0.6\n"
   ]
  },
  {
   "cell_type": "code",
   "execution_count": null,
   "id": "bb611a5e-63dd-4446-9b64-36ad2a152842",
   "metadata": {},
   "outputs": [],
   "source": [
    "# Add some random variation to make it look more natural\n",
    "red_band += np.random.normal(0, 0.05, (size, size))\n",
    "nir_band += np.random.normal(0, 0.05, (size, size))\n"
   ]
  },
  {
   "cell_type": "code",
   "execution_count": null,
   "id": "a609720b-2184-4626-b59b-3ad890f2214a",
   "metadata": {},
   "outputs": [],
   "source": [
    "# Clip values to valid range [0,1]\n",
    "red_band = np.clip(red_band, 0, 1)\n",
    "nir_band = np.clip(nir_band, 0, 1)\n"
   ]
  },
  {
   "cell_type": "code",
   "execution_count": null,
   "id": "d0030285-cae8-4b86-a3e8-30bac48753cf",
   "metadata": {},
   "outputs": [],
   "source": [
    "print(\"Displaying satellite image bands...\")\n"
   ]
  },
  {
   "cell_type": "code",
   "execution_count": null,
   "id": "f0374d4a-697d-4c96-bb19-f5eafca16285",
   "metadata": {},
   "outputs": [],
   "source": [
    "# Display the red band\n",
    "plt.figure(figsize=(12, 5))\n"
   ]
  },
  {
   "cell_type": "code",
   "execution_count": null,
   "id": "35ac415f-e65c-4126-be9d-d10531aa1b8b",
   "metadata": {},
   "outputs": [],
   "source": [
    "plt.subplot(1, 3, 1)\n",
    "plt.imshow(red_band, cmap='Reds')\n",
    "#plt.colorbar(label='Reflectance')\n",
    "plt.title('Red Band')\n",
    "plt.axis('off')\n"
   ]
  },
  {
   "cell_type": "code",
   "execution_count": null,
   "id": "efd5e105-f176-40ce-83be-ffae792a68ba",
   "metadata": {},
   "outputs": [],
   "source": [
    "# Display the NIR band\n",
    "plt.subplot(1, 3, 2)\n",
    "plt.imshow(nir_band, cmap='Greens')\n",
    "#plt.colorbar(label='Reflectance')\n",
    "plt.title('Near-Infrared (NIR) Band')\n",
    "plt.axis('off')\n"
   ]
  },
  {
   "cell_type": "code",
   "execution_count": null,
   "id": "ccf0f062-277f-44df-8288-c89f6586202b",
   "metadata": {},
   "outputs": [],
   "source": [
    "# Create a color composite (RGB-NIR)\n",
    "rgb = np.zeros((size, size, 3))\n",
    "rgb[:,:,0] = red_band  # Red channel\n",
    "rgb[:,:,1] = nir_band  # NIR displayed as green\n",
    "rgb[:,:,2] = nir_band * 0.5  # Just for visualization\n"
   ]
  },
  {
   "cell_type": "code",
   "execution_count": null,
   "id": "5ad59e31-8c42-45e1-af18-0436aa11be66",
   "metadata": {},
   "outputs": [],
   "source": [
    "plt.subplot(1, 3, 3)\n",
    "plt.imshow(rgb)\n",
    "plt.title('Color Composite')\n",
    "plt.axis('off')\n"
   ]
  },
  {
   "cell_type": "code",
   "execution_count": null,
   "id": "2ce2659c-d623-4925-8c85-5f7697dc8045",
   "metadata": {},
   "outputs": [],
   "source": [
    "plt.tight_layout()\n",
    "plt.savefig('satellite_bands.png')\n",
    "print(\"Image saved as 'satellite_bands.png'\")\n"
   ]
  },
  {
   "cell_type": "code",
   "execution_count": null,
   "id": "de38d8c8-c621-490e-bf57-950060780490",
   "metadata": {},
   "outputs": [],
   "source": [
    "# Part 2: NDVI Calculation\n"
   ]
  },
  {
   "cell_type": "code",
   "execution_count": null,
   "id": "c26f6443-34fb-434e-a175-fc72bffc33ee",
   "metadata": {},
   "outputs": [],
   "source": [
    "\n",
    "\n",
    "print(\"\\n\\nPart 2: Calculating NDVI (Vegetation Index)\")\n"
   ]
  },
  {
   "cell_type": "markdown",
   "id": "72bd42df-059a-4340-a50d-bef03a7923f1",
   "metadata": {},
   "source": [
    "# Calculate NDVI\n",
    " Formula: NDVI = (NIR - Red) / (NIR + Red)\n",
    " NDVI ranges from -1 to 1:\n",
    " - Values close to 1 indicate dense, healthy vegetation\n",
    " - Values around 0 indicate urban areas or bare soil\n",
    " - Negative values typically indicate water\n"
   ]
  },
  {
   "cell_type": "markdown",
   "id": "62708a55-73ad-42c2-b7d5-453f4eb7727d",
   "metadata": {},
   "source": [
    "# Avoid division by zero"
   ]
  },
  {
   "cell_type": "code",
   "execution_count": null,
   "id": "68a0fd92-1029-45db-b811-a9d1bbc7cc21",
   "metadata": {},
   "outputs": [],
   "source": [
    "epsilon = 1e-10  # Small number to prevent division by zero\n",
    "ndvi = (nir_band - red_band) / (nir_band + red_band + epsilon)\n",
    "\n"
   ]
  },
  {
   "cell_type": "code",
   "execution_count": null,
   "id": "939c50a7-aa37-464e-bf4d-a30341b82a08",
   "metadata": {},
   "outputs": [],
   "source": [
    "print(f\"NDVI Statistics:\")\n",
    "print(f\"Minimum NDVI: {np.min(ndvi):.3f}\")\n",
    "print(f\"Maximum NDVI: {np.max(ndvi):.3f}\")\n",
    "print(f\"Average NDVI: {np.mean(ndvi):.3f}\")\n"
   ]
  },
  {
   "cell_type": "code",
   "execution_count": null,
   "id": "b298827e-9d8f-4df7-8c0a-6fec82be51a0",
   "metadata": {},
   "outputs": [],
   "source": [
    "# Create a custom colormap for NDVI\n",
    "colors = ['darkblue', 'blue', 'lightblue', 'white', 'yellow', 'green', 'darkgreen']\n",
    "ndvi_cmap = ListedColormap(colors)\n"
   ]
  },
  {
   "cell_type": "code",
   "execution_count": null,
   "id": "8ca45b31-b8bc-480a-8ed0-5a9d18aca858",
   "metadata": {},
   "outputs": [],
   "source": [
    "# Plot the NDVI\n",
    "plt.figure(figsize=(5, 5))\n",
    "plt.imshow(ndvi, cmap=ndvi_cmap, vmin=-1, vmax=1)\n",
    "plt.colorbar(label='NDVI Value')\n",
    "plt.title('Normalized Difference Vegetation Index (NDVI)')\n",
    "plt.axis('off')\n"
   ]
  },
  {
   "cell_type": "code",
   "execution_count": null,
   "id": "aa5363a0-2e0f-4e3d-a12d-e7bb6869bf7d",
   "metadata": {},
   "outputs": [],
   "source": [
    "plt.savefig('ndvi_map.png')\n",
    "print(\"NDVI map saved as 'ndvi_map.png'\")\n"
   ]
  },
  {
   "cell_type": "code",
   "execution_count": null,
   "id": "ca642db5-398c-475f-902e-1e519ec1da49",
   "metadata": {},
   "outputs": [],
   "source": [
    "# Create a simple NDVI classification\n",
    "ndvi_classes = np.zeros_like(ndvi)\n",
    "ndvi_classes[ndvi < -0.3] = 0  # Water\n",
    "ndvi_classes[(ndvi >= -0.3) & (ndvi < 0.2)] = 1  # Urban/soil\n",
    "ndvi_classes[(ndvi >= 0.2) & (ndvi < 0.5)] = 2  # Sparse vegetation\n",
    "ndvi_classes[ndvi >= 0.5] = 3  # Dense vegetation\n"
   ]
  },
  {
   "cell_type": "code",
   "execution_count": null,
   "id": "601ff3d8-05cc-479f-a543-07af66e6a40d",
   "metadata": {},
   "outputs": [],
   "source": [
    "# Create a discrete colormap for classification\n",
    "class_cmap = ListedColormap(['blue', 'gray', 'yellowgreen', 'darkgreen'])\n"
   ]
  },
  {
   "cell_type": "code",
   "execution_count": null,
   "id": "8c460625-9b31-4cf8-b8ce-14a4a2d058fc",
   "metadata": {},
   "outputs": [],
   "source": [
    "# Plot the NDVI classification\n",
    "plt.figure(figsize=(10, 8))\n",
    "plt.imshow(ndvi_classes, cmap=class_cmap, vmin=0, vmax=3)\n",
    "plt.colorbar(ticks=[0.5, 1.5, 2.5, 3.5], \n",
    "             label='Land Cover Type',\n",
    "             boundaries=[0, 1, 2, 3, 4],\n",
    "             values=[0, 1, 2, 3])\n",
    "plt.clim(0, 4)\n",
    "plt.title('Land Cover Classification from NDVI')\n",
    "plt.axis('off')\n"
   ]
  },
  {
   "cell_type": "code",
   "execution_count": null,
   "id": "3e05d1af-8edc-4102-a593-f05f00e71fdb",
   "metadata": {},
   "outputs": [],
   "source": [
    "# Add labels to the colorbar\n",
    "labels = ['Water', 'Urban/Soil', 'Sparse Vegetation', 'Dense Vegetation']\n",
    "plt.savefig('landcover_classification.png')\n",
    "print(\"Land cover classification saved as 'landcover_classification.png'\")\n",
    "\n"
   ]
  },
  {
   "cell_type": "code",
   "execution_count": null,
   "id": "9f130af4-95b0-4f65-9378-31f0755e6721",
   "metadata": {},
   "outputs": [],
   "source": [
    "print(\"\\nEnd of Day 3 - You've learned how to work with spatial data, satellite imagery and calculate NDVI!\")\n"
   ]
  },
  {
   "cell_type": "code",
   "execution_count": null,
   "id": "adf7bbf4",
   "metadata": {},
   "outputs": [],
   "source": [
    "\n"
   ]
  },
  {
   "cell_type": "code",
   "execution_count": null,
   "id": "e2ef9ff0",
   "metadata": {},
   "outputs": [],
   "source": []
  }
 ],
 "metadata": {
  "kernelspec": {
   "display_name": "Python 3 (ipykernel)",
   "language": "python",
   "name": "python3"
  },
  "language_info": {
   "codemirror_mode": {
    "name": "ipython",
    "version": 3
   },
   "file_extension": ".py",
   "mimetype": "text/x-python",
   "name": "python",
   "nbconvert_exporter": "python",
   "pygments_lexer": "ipython3",
   "version": "3.10.16"
  }
 },
 "nbformat": 4,
 "nbformat_minor": 5
}
