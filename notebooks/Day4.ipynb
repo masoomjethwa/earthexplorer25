{
 "cells": [
  {
   "cell_type": "markdown",
   "id": "550cfbff-8a9b-4d39-8823-ec6341166ff9",
   "metadata": {},
   "source": [
    "# Day 4"
   ]
  },
  {
   "cell_type": "markdown",
   "id": "0db0d842-82d3-4e9b-a57a-c9269a5c0107",
   "metadata": {},
   "source": [
    "<p><font size=\"6\"><b> Part 1. Coordinate reference systems</b></font></p>"
   ]
  },
  {
   "cell_type": "code",
   "execution_count": null,
   "id": "2e5e2779-140f-4dd5-993d-bb697adb4fee",
   "metadata": {},
   "outputs": [],
   "source": [
    "import pandas as pd\n",
    "import geopandas"
   ]
  },
  {
   "cell_type": "code",
   "execution_count": null,
   "id": "5401fa82-31cd-4ae0-ac18-06abfd4e4438",
   "metadata": {},
   "outputs": [],
   "source": [
    "countries = geopandas.read_file(\"ne_110m_admin_0_countries.zip\")\n",
    "cities = geopandas.read_file(\"ne_110m_populated_places.zip\")\n",
    "rivers = geopandas.read_file(\"ne_50m_rivers_lake_centerlines.zip\")"
   ]
  },
  {
   "cell_type": "markdown",
   "id": "35d90abf-89f6-4418-964e-37316de3015f",
   "metadata": {},
   "source": [
    "## Coordinate reference systems\n",
    "\n",
    "Up to now, we have used the geometry data with certain coordinates without further wondering what those coordinates mean or how they are expressed.\n",
    "\n",
    "> The **Coordinate Reference System (CRS)** relates the coordinates to a specific location on earth.\n"
   ]
  },
  {
   "cell_type": "markdown",
   "id": "5b56f234-80a5-41f6-a713-f9c80fade137",
   "metadata": {},
   "source": [
    "### Geographic coordinates\n",
    "\n",
    "> Degrees of latitude and longitude.\n",
    ">\n",
    "> E.g. 48°51′N, 2°17′E\n",
    "\n",
    "The most known type of coordinates are geographic coordinates: we define a position on the globe in degrees of latitude and longitude, relative to the equator and the prime meridian. \n",
    "With this system, we can easily specify any location on earth. It is used widely, for example in GPS. If you inspect the coordinates of a location in Google Maps, you will also see latitude and longitude.\n",
    "\n",
    "**Attention!**\n",
    "\n",
    "in Python we use (lon, lat) and not (lat, lon)\n",
    "\n",
    "- Longitude: [-180, 180]{{1}}\n",
    "- Latitude: [-90, 90]{{1}}"
   ]
  },
  {
   "cell_type": "markdown",
   "id": "8a9888bc-1473-479b-a95f-330a3dddabb2",
   "metadata": {},
   "source": [
    "### Projected coordinates\n",
    "\n",
    "> `(x, y)` coordinates are usually in meters or feet\n",
    "\n",
    "Although the earth is a globe, in practice we usually represent it on a flat surface: think about a physical map, or the figures we have made with Python on our computer screen.\n",
    "Going from the globe to a flat map is what we call a *projection*.\n",
    "\n",
    "![](projection.png)\n",
    "\n",
    "We project the surface of the earth onto a 2D plane so we can express locations in cartesian x and y coordinates, on a flat surface. In this plane, we then typically work with a length unit such as meters instead of degrees, which makes the analysis more convenient and effective.\n",
    "\n",
    "However, there is an important remark: the 3 dimensional earth can never be represented perfectly on a 2 dimensional map, so projections inevitably introduce distortions. To minimize such errors, there are different approaches to project, each with specific advantages and disadvantages.\n",
    "\n",
    "Some projection systems will try to preserve the area size of geometries, such as the Albers Equal Area projection. Other projection systems try to preserve angles, such as the Mercator projection, but will see big distortions in the area. Every projection system will always have some distortion of area, angle or distance.\n",
    "\n",
    "<table><tr>\n",
    "<td> <img src=\"projections-AlbersEqualArea.png\"/> </td>\n",
    "<td> <img src=\"projections-Mercator.png\"/> </td>\n",
    "</tr>\n",
    "<tr>\n",
    "<td> <img src=\"projections-Robinson.png\"/> </td>\n",
    "</tr></table>"
   ]
  },
  {
   "cell_type": "markdown",
   "id": "12c2fbcf-d625-4d1a-82d5-4ab657b728f9",
   "metadata": {},
   "source": [
    "**Projected size vs actual size (Mercator projection)**:\n",
    "\n",
    "![](mercator_projection_area.gif)"
   ]
  },
  {
   "cell_type": "code",
   "execution_count": null,
   "id": "aa5a49a7-6c36-4f15-bae0-0846f17e9efa",
   "metadata": {},
   "outputs": [],
   "source": [
    "## Coordinate Reference Systems in Python / GeoPandas"
   ]
  },
  {
   "cell_type": "code",
   "execution_count": null,
   "id": "a8770cc7-7f03-44eb-b942-9f8208f3646d",
   "metadata": {},
   "outputs": [],
   "source": [
    "countries.crs"
   ]
  },
  {
   "cell_type": "code",
   "execution_count": null,
   "id": "32ecdebe-b515-4b14-a672-e903b76c11e5",
   "metadata": {},
   "outputs": [],
   "source": [
    "countries.plot()"
   ]
  },
  {
   "cell_type": "markdown",
   "id": "f63ad83a-4588-44b0-a899-816c02c854c5",
   "metadata": {},
   "source": [
    "The `.crs` attribute returns a `pyproj.CRS` object. To specify a CRS, we typically use some string representation:\n",
    "\n",
    "\n",
    "- **EPSG code**\n",
    "  \n",
    "  Example: `EPSG:4326` = WGS84 geographic CRS (longitude, latitude)\n",
    "\n",
    "\n",
    "- In older software and datasets, you might also encounter a \"`proj4` string\" representation:\n",
    "  \n",
    "  Example: `+proj=longlat +datum=WGS84 +no_defs`\n",
    "\n",
    " \n",
    "\n",
    "\n",
    "See eg https://epsg.io/4326\n",
    "\n",
    "Under the hood, GeoPandas uses the `pyproj` / `PROJ` libraries to deal with the re-projections.\n",
    "\n",
    "For more information, see also http://geopandas.readthedocs.io/en/latest/projections.html."
   ]
  },
  {
   "cell_type": "markdown",
   "id": "ed825a71-8299-4408-a207-7b43197dde7d",
   "metadata": {},
   "source": [
    "**EXERCISE**\n",
    "\n",
    "* Read the districts datasets (`\"Guj_districts.geojson\"`) into a GeoDataFrame called `districts`.\n",
    "* Look at the CRS attribute of the GeoDataFrame. Do you recognize the EPSG number?\n",
    "* Make a plot of the `districts` dataset.\n",
    "* Calculate the area of all districts.\n",
    "* Convert the `districts` to a projected CRS (using the `EPSG:2154` for Gujarat). Call the new dataset `districts_RGF93`.\n",
    "* Make a similar plot of `districts_RGF93`.\n",
    "* Calculate the area of all districts again with `districts_RGF93` (the result will now be expressed in m²)."
   ]
  },
  {
   "cell_type": "markdown",
   "id": "df068548-a8d6-4e54-9574-5373fad75704",
   "metadata": {},
   "source": [
    "<details><summary>Hints</summary>\n",
    "\n",
    "* The CRS information is stored in the `.crs` attribute of a GeoDataFrame.\n",
    "* Making a simple plot of a GeoDataFrame can be done with the `.plot()` method.\n",
    "* Converting to a different CRS can be done with the `.to_crs()` method, and the CRS can be specified as an EPSG number using the `epsg` keyword.\n",
    "\n",
    "</details>\n",
    "\n",
    "</div>"
   ]
  },
  {
   "cell_type": "markdown",
   "id": "e1869cfd-d8b1-4e61-a1f6-30279d2224c3",
   "metadata": {},
   "source": [
    "<p><font size=\"6\"><b>  Part 2. Matplotlib practice</b></font></p>"
   ]
  },
  {
   "cell_type": "code",
   "execution_count": null,
   "id": "f5646f82-57bb-42a6-b1b6-d64a86e1767d",
   "metadata": {},
   "outputs": [],
   "source": [
    "# Line Plot\n",
    "import matplotlib.pyplot as plt\n",
    "\n",
    "x = [2000, 2005, 2010, 2015, 2020]\n",
    "y = [2.5, 2.8, 3.0, 3.3, 3.7]  # Population in millions\n",
    "\n",
    "plt.plot(x, y)\n",
    "plt.title(\"City Population Over Time\")\n",
    "plt.xlabel(\"Year\")\n",
    "plt.ylabel(\"Population (Millions)\")\n",
    "plt.show()\n"
   ]
  },
  {
   "cell_type": "code",
   "execution_count": null,
   "id": "a2b40250-f506-4401-bde6-91fa76ae1fbf",
   "metadata": {},
   "outputs": [],
   "source": [
    "# Bar Chart\n",
    "cities = ['Patan', 'Rajkot', 'Dholera', 'Ahmedabad']\n",
    "area = [783, 1302, 589, 1625]  # in km²\n",
    "\n",
    "plt.bar(cities, area)\n",
    "plt.title(\"City Area Comparison\")\n",
    "plt.ylabel(\"Area (km²)\")\n",
    "plt.show()\n"
   ]
  },
  {
   "cell_type": "code",
   "execution_count": null,
   "id": "f7603eb2-d8e4-4103-b0cd-bfc0769391f5",
   "metadata": {},
   "outputs": [],
   "source": [
    "# Pie Chart\n",
    "land_types = ['Forest', 'Water', 'Urban', 'Agriculture']\n",
    "percent = [40, 10, 25, 25]\n",
    "\n",
    "plt.pie(percent, labels=land_types, autopct='%1.1f%%')\n",
    "plt.title(\"Land Use in a Region\")\n",
    "plt.show()\n",
    "\n",
    "land_types = ['Forest', 'Water', 'Urban', 'Agriculture']\n",
    "percent = [40, 10, 25, 25]\n",
    "\n",
    "plt.pie(percent, labels=land_types, autopct='%1.1f%%')\n",
    "plt.title(\"Land Use in a Region\")\n",
    "plt.show()\n"
   ]
  },
  {
   "cell_type": "code",
   "execution_count": null,
   "id": "41b7df52-07e1-4a05-bbf1-10fd30e45e6f",
   "metadata": {},
   "outputs": [],
   "source": [
    "# Scatter Plot\n",
    "rainfall = [100, 200, 300, 400, 500]  # in mm\n",
    "plants = [10, 15, 30, 45, 60]  # number of plant species\n",
    "\n",
    "plt.scatter(rainfall, plants)\n",
    "plt.title(\"Rainfall vs. Plant Species\")\n",
    "plt.xlabel(\"Rainfall (mm)\")\n",
    "plt.ylabel(\"Number of Plant Species\")\n",
    "plt.show()\n"
   ]
  },
  {
   "cell_type": "code",
   "execution_count": null,
   "id": "19ee7c8a-c180-47b0-a553-c7fbcf23cf55",
   "metadata": {},
   "outputs": [],
   "source": [
    "# Histogram\n",
    "elevation = [120, 180, 160, 200, 220, 140, 160, 170, 130, 180]\n",
    "\n",
    "plt.hist(elevation, bins=5)\n",
    "plt.title(\"Elevation Distribution\")\n",
    "plt.xlabel(\"Elevation (meters)\")\n",
    "plt.ylabel(\"Number of Locations\")\n",
    "plt.show()\n"
   ]
  },
  {
   "cell_type": "code",
   "execution_count": null,
   "id": "3df7e976-4563-48fd-8445-994b1d91b096",
   "metadata": {},
   "outputs": [],
   "source": [
    "# Box Plot\n",
    "temperatures = [22, 21, 23, 19, 25, 24, 20, 22, 23, 24]\n",
    "\n",
    "plt.boxplot(temperatures)\n",
    "plt.title(\"Temperature Variation\")\n",
    "plt.ylabel(\"Temperature (°C)\")\n",
    "plt.show()\n"
   ]
  },
  {
   "cell_type": "code",
   "execution_count": null,
   "id": "b653e52b-8a56-430a-875d-403e22042f8b",
   "metadata": {},
   "outputs": [],
   "source": [
    "#  Stacked Bar Chart\n",
    "import numpy as np\n",
    "\n",
    "years = ['2010', '2015', '2020']\n",
    "urban = [20, 30, 40]\n",
    "rural = [80, 70, 60]\n",
    "\n",
    "bar_width = 0.5\n",
    "x = np.arange(len(years))\n",
    "\n",
    "plt.bar(x, rural, label='Rural')\n",
    "plt.bar(x, urban, bottom=rural, label='Urban')\n",
    "plt.xticks(x, years)\n",
    "plt.ylabel(\"Population (%)\")\n",
    "plt.title(\"Urban vs Rural Population\")\n",
    "plt.legend()\n",
    "plt.show()\n"
   ]
  },
  {
   "cell_type": "code",
   "execution_count": null,
   "id": "a5b31ea9-e497-4e76-8cb8-0be813648550",
   "metadata": {},
   "outputs": [],
   "source": [
    "# Heatmap\n",
    "import numpy as np\n",
    "\n",
    "data = np.random.rand(5,5)\n",
    "\n",
    "plt.imshow(data, cmap='hot', interpolation='nearest')\n",
    "plt.title(\"Temperature Heatmap\")\n",
    "plt.colorbar()\n",
    "plt.show()\n"
   ]
  },
  {
   "cell_type": "markdown",
   "id": "01962f72-b398-4fa4-862c-8669871f9263",
   "metadata": {},
   "source": [
    "# Part 3. Analyzing Sea Surface Temperatures from a NetCDF File"
   ]
  },
  {
   "cell_type": "markdown",
   "id": "5547dab0-5a62-41a8-a140-8d0ad7b61559",
   "metadata": {},
   "source": [
    "NetCDF (Network Common Data Form) is a widely used format for storing scientific data, especially in climate science, oceanography, and meteorology. xarray builds upon numpy and provides a very intuitive way to work with these files."
   ]
  },
  {
   "cell_type": "markdown",
   "id": "707c8a31-0e27-463d-86b6-da28a4168a63",
   "metadata": {},
   "source": [
    "## We will learn:\n",
    "\n",
    "- Opening NetCDF files with xarray\n",
    "- Basic data inspection\n",
    "- Selecting and slicing data\n",
    "- Performing calculations with numpy (via xarray)\n",
    "- Visualizing data\n",
    "- Working with geospatial data (conceptual with geopandas)"
   ]
  },
  {
   "cell_type": "code",
   "execution_count": null,
   "id": "0ac48750-dd02-4061-8c67-4b3e0593f8e2",
   "metadata": {},
   "outputs": [],
   "source": [
    "import xarray as xr\n",
    "import numpy as np\n",
    "import matplotlib.pyplot as plt\n",
    "import cartopy.crs as ccrs\n",
    "import geopandas as gpd # We'll discuss conceptual usage later\n",
    "\n",
    "# Define the path to your NetCDF file\n",
    "file_path = 'tos_O1_2001-2002.nc'\n",
    "\n"
   ]
  },
  {
   "cell_type": "code",
   "execution_count": null,
   "id": "bbffea42-3dba-40a2-aed3-4de490cf60ed",
   "metadata": {},
   "outputs": [],
   "source": [
    "try:\n",
    "    # Open the NetCDF file as an xarray Dataset\n",
    "    ds = xr.open_dataset(file_path)\n",
    "    print(f\"Successfully opened: {file_path}\")\n",
    "    print(\"\\nDataset Information:\")\n",
    "    print(ds)\n",
    "except FileNotFoundError:\n",
    "    print(f\"Error: The file '{file_path}' was not found. Please ensure it's in the correct directory.\")\n",
    "except Exception as e:\n",
    "    print(f\"An error occurred while opening the file: {e}\")"
   ]
  },
  {
   "cell_type": "markdown",
   "id": "a887bf34-9a56-467d-b672-ee0ac74b33fd",
   "metadata": {},
   "source": [
    "- xr.open_dataset(file_path): This function reads the entire NetCDF file into an xarray.Dataset object.\n",
    "\n",
    "- A Dataset is like a dictionary of DataArray objects, where each DataArray holds a single variable along with its coordinates and attributes.\n",
    "\n",
    "\n",
    "- print(ds): This will output a comprehensive summary of your dataset, including:\n",
    "\n",
    "    - Dimensions: The names and sizes of the dataset's dimensions (e.g., time, lat, lon).\n",
    "    - Coordinates: The values associated with each dimension (e.g., time values, latitude values, longitude values). These are crucial for indexing and plotting.\n",
    "    - Data variables: The actual scientific data (e.g., tos for sea surface temperature), their dimensions, and data types.\n",
    "    - Attributes: Metadata about the dataset and its variables (e.g., units, long name, source)."
   ]
  },
  {
   "cell_type": "code",
   "execution_count": null,
   "id": "21c98bf8-2ac3-4f45-8ec6-38519ba5f343",
   "metadata": {},
   "outputs": [],
   "source": [
    "if 'ds' in locals(): # Only run if we successfully opened the file\n",
    "    print(\"\\nWhat kinds of information do we have?\")\n",
    "    for var_name in ds.data_vars:\n",
    "        print(f\"- {var_name}: (This is our main temperature data!)\")\n",
    "\n",
    "    # Let's grab just the 'tos' (Sea Surface Temperature) part\n",
    "    sst = ds['tos']\n",
    "    print(\"\\nHere's what our Sea Surface Temperature (SST) data looks like:\")\n",
    "    print(sst)\n",
    "\n",
    "    # What are the units? (Like Celsius or Fahrenheit)\n",
    "    print(\"\\nThe temperature is measured in:\")\n",
    "    print(sst.attrs.get('units', 'No units found'))\n",
    "\n",
    "    # How many months of data do we have?\n",
    "    num_time_steps = ds.dims['time']\n",
    "    print(f\"\\nWe have {num_time_steps} months of ocean temperature data!\")"
   ]
  },
  {
   "cell_type": "markdown",
   "id": "1e95ac59-299b-4d3c-ae30-ce69a4617c51",
   "metadata": {},
   "source": [
    "### What's happening here?\n",
    "     - ds['tos']: This grabs only the tos (sea surface temperature) part from our big ds dataset. We're calling it sst for short.\n",
    "    - sst.attrs.get('units', 'No units found'): This checks the \"label\" on our sst brick to see what unit the temperature is in (like degrees Celsius).\n",
    "    - ds.dims['time']: This tells us how many different \"time\" pieces (like months) we have in our data."
   ]
  },
  {
   "cell_type": "code",
   "execution_count": null,
   "id": "4ad22763-382b-4667-9168-7c3e55b29762",
   "metadata": {},
   "outputs": [],
   "source": [
    "if 'ds' in locals():\n",
    "    # Let's find the average ocean temperature for each spot on the map, over ALL the months!\n",
    "    # This will give us one map of the average temperature.\n",
    "    mean_sst_map = sst.mean(dim='time') # 'dim='time'' means average along the time dimension\n",
    "    print(\"\\nAverage SST for each spot on the map:\")\n",
    "    print(mean_sst_map)\n",
    "\n",
    "    # Let's find the average ocean temperature for the WHOLE ocean for each month.\n",
    "    # This will give us a line showing how the world's ocean temperature changed over time.\n",
    "    mean_sst_over_time = sst.mean(dim=['lat', 'lon']) # Average across latitude and longitude\n",
    "    print(\"\\nWorld's average SST for each month:\")\n",
    "    print(mean_sst_over_time)\n",
    "\n",
    "    # What if we want to see how much warmer or colder each month was compared to the average?\n",
    "    # We subtract the average map from each month's map. This is called an \"anomaly.\"\n",
    "    sst_anomaly = sst - mean_sst_map\n",
    "    print(\"\\nSST Anomaly (how much different from average) for the first month:\")\n",
    "    print(sst_anomaly.isel(time=0))\n",
    "\n",
    "    # What was the very hottest temperature recorded in our whole file?\n",
    "    hottest_temp = sst.values.max() # .values gets the raw numbers, .max() finds the biggest\n",
    "    print(f\"\\nThe very hottest SST recorded was: {hottest_temp} {sst.attrs.get('units', 'N/A')}\")"
   ]
  },
  {
   "cell_type": "code",
   "execution_count": null,
   "id": "5cdaeb87-7a5d-404d-8bd8-8db5a7098cfd",
   "metadata": {},
   "outputs": [],
   "source": [
    "if 'ds' in locals():\n",
    "    # Let's draw the map of the average ocean temperature!\n",
    "    plt.figure(figsize=(10, 6)) # Makes our drawing space big enough\n",
    "    ax = plt.axes(projection=ccrs.PlateCarree()) # Tells it to draw a map with latitude and longitude\n",
    "    mean_sst_map.plot.contourf(ax=ax, cmap='viridis', levels=20, # Draw filled colors based on temp\n",
    "                               cbar_kwargs={'label': f\"SST ({sst.attrs.get('units', 'N/A')})\"}) # Add a color bar\n",
    "    ax.coastlines() # Draw the outlines of the continents\n",
    "    ax.gridlines(draw_labels=True, dms=True, x_inline=False, y_inline=False) # Draw the lat/lon lines\n",
    "    plt.title(f\"Average Ocean Temperature (2001-2002)\") # Give our map a title\n",
    "    plt.show() # Show the map!\n"
   ]
  },
  {
   "cell_type": "markdown",
   "id": "49fd8971-66e0-4b2b-a74f-c2c13f07dfd5",
   "metadata": {},
   "source": [
    "<p><font size=\"6\"><b>  Part 4. Spatial operations and overlays: creating new geometries</b></font></p>"
   ]
  },
  {
   "cell_type": "markdown",
   "id": "5eff3630-35be-4339-be53-fda0f1703370",
   "metadata": {},
   "source": [
    "In the previous notebook we have seen how to identify and use the spatial relationships between geometries. In this notebook, we will see how to create new geometries based on those relationships."
   ]
  },
  {
   "cell_type": "code",
   "execution_count": null,
   "id": "fd0d932d",
   "metadata": {},
   "outputs": [],
   "source": [
    "import pandas as pd\n",
    "import geopandas\n",
    "import matplotlib.pyplot as plt"
   ]
  },
  {
   "cell_type": "code",
   "execution_count": null,
   "id": "58326949",
   "metadata": {},
   "outputs": [],
   "source": [
    "countries = geopandas.read_file(\"ne_110m_admin_0_countries.zip\")\n",
    "cities = geopandas.read_file(\"ne_110m_populated_places.zip\")\n",
    "rivers = geopandas.read_file(\"ne_50m_rivers_lake_centerlines.zip\")\n"
   ]
  },
  {
   "cell_type": "code",
   "execution_count": null,
   "id": "bd70cbc2",
   "metadata": {},
   "outputs": [],
   "source": [
    "# defining the same example geometries as in the previous notebook\n",
    "belgium = countries.loc[countries['NAME'] == 'Belgium', 'geometry'].item()\n",
    "brussels = cities.loc[cities['NAME'] == 'Brussels', 'geometry'].item()"
   ]
  },
  {
   "cell_type": "markdown",
   "id": "afced85c-bcfd-4129-ba63-50b8c02cf72c",
   "metadata": {},
   "source": [
    "# Spatial operations\n",
    "\n",
    "Next to the spatial predicates that return boolean values, Shapely and GeoPandas also provide operations that return new geometric objects.\n",
    "\n",
    "**Binary operations:**\n",
    "\n",
    "<table><tr>\n",
    "<td> <img src=\"spatial-operations-base.png\"/> </td>\n",
    "<td> <img src=\"spatial-operations-intersection.png\"/> </td>\n",
    "</tr>\n",
    "<tr>\n",
    "<td> <img src=\"spatial-operations-union.png\"/> </td>\n",
    "<td> <img src=\"spatial-operations-difference.png\"/> </td>\n",
    "</tr></table>\n",
    "\n",
    "**Buffer:**\n",
    "\n",
    "<table><tr>\n",
    "<td> <img src=\"spatial-operations-buffer-point1.png\"/> </td>\n",
    "<td> <img src=\"spatial-operations-buffer-point2.png\"/> </td>\n",
    "</tr>\n",
    "<tr>\n",
    "<td> <img src=\"spatial-operations-buffer-line.png\"/> </td>\n",
    "<td> <img src=\"spatial-operations-buffer-polygon.png\"/> </td>\n",
    "</tr></table>\n",
    "\n",
    "\n",
    "See https://shapely.readthedocs.io/en/stable/manual.html#spatial-analysis-methods for more details."
   ]
  },
  {
   "cell_type": "markdown",
   "id": "efd27869-49d6-4370-aa42-7757bb8ddcd5",
   "metadata": {},
   "source": [
    "For example, using the toy data from above, let's construct a buffer around Brussels (which returns a Polygon):"
   ]
  },
  {
   "cell_type": "code",
   "execution_count": null,
   "id": "cb1d6a1d",
   "metadata": {},
   "outputs": [],
   "source": [
    "geopandas.GeoSeries([belgium, brussels.buffer(1)]).plot(alpha=0.5, cmap='tab10')"
   ]
  },
  {
   "cell_type": "markdown",
   "id": "8dde1896-51c9-465a-a8fd-2ad162a3853f",
   "metadata": {},
   "source": [
    "and now take the intersection, union or difference of those two polygons:"
   ]
  },
  {
   "cell_type": "code",
   "execution_count": null,
   "id": "52532bfb-f49b-46e8-b0e1-6b688ceb6651",
   "metadata": {},
   "outputs": [],
   "source": [
    "brussels.buffer(1).intersection(belgium)"
   ]
  },
  {
   "cell_type": "code",
   "execution_count": null,
   "id": "6cb03d71-223c-4c82-9a4e-bd0b4719af17",
   "metadata": {},
   "outputs": [],
   "source": [
    "brussels.buffer(1).union(belgium)"
   ]
  },
  {
   "cell_type": "code",
   "execution_count": null,
   "id": "a0f4960c-43ce-4276-a409-d85d0eae5b87",
   "metadata": {},
   "outputs": [],
   "source": [
    "brussels.buffer(1).difference(belgium)"
   ]
  },
  {
   "cell_type": "markdown",
   "id": "cfb2f6b4-cf3f-41f8-8691-40661c59a4a1",
   "metadata": {},
   "source": [
    "## Spatial operations with GeoPandas"
   ]
  },
  {
   "cell_type": "markdown",
   "id": "01281a8f-b123-42dc-84dc-8b854cebeeae",
   "metadata": {},
   "source": [
    "Above we showed how to create a new geometry based on two individual shapely geometries. The same operations can be extended to GeoPandas. Given a GeoDataFrame, we can calculate the intersection, union or difference of each of the geometries with another geometry.\n",
    "\n",
    "Let's look at an example with a subset of the countries. We have a GeoDataFrame with the country polygons of Africa, and  now consider a rectangular polygon, representing an area around the equator:"
   ]
  },
  {
   "cell_type": "code",
   "execution_count": null,
   "id": "4bbd5b63-c633-451b-8697-783b264aaf03",
   "metadata": {},
   "outputs": [],
   "source": [
    "africa = countries[countries.CONTINENT == 'Africa']"
   ]
  },
  {
   "cell_type": "code",
   "execution_count": null,
   "id": "b1b5e4f6-e918-4901-a81c-c724008a39ca",
   "metadata": {},
   "outputs": [],
   "source": [
    "from shapely.geometry import LineString\n",
    "box = LineString([(-10, 0), (50, 0)]).buffer(10, cap_style=3)"
   ]
  },
  {
   "cell_type": "code",
   "execution_count": null,
   "id": "f2b57e24-a060-41ff-9a6b-06931efde999",
   "metadata": {},
   "outputs": [],
   "source": [
    "fig, ax = plt.subplots(figsize=(6, 6))\n",
    "africa.plot(ax=ax, facecolor='none', edgecolor='k')\n",
    "geopandas.GeoSeries([box]).plot(ax=ax, facecolor='C0', edgecolor='k', alpha=0.5)"
   ]
  },
  {
   "cell_type": "markdown",
   "id": "aeb0737f-9d36-4e73-997f-741807b87d46",
   "metadata": {},
   "source": [
    "The intersection method of the GeoDataFrame will now calculate the intersection with the rectangle for each of the geometries of the africa GeoDataFrame element-wise. Note that for many of the countries, those that do not overlap with the rectangle, this will be an empty geometry:"
   ]
  },
  {
   "cell_type": "code",
   "execution_count": null,
   "id": "dc98296f-39f2-4e58-af0a-80088ddb446b",
   "metadata": {},
   "outputs": [],
   "source": [
    "africa_intersection = africa.intersection(box)\n",
    "africa_intersection.head()"
   ]
  },
  {
   "cell_type": "markdown",
   "id": "78afd309-c5b9-43e9-adfc-89ade5e7eede",
   "metadata": {},
   "source": [
    "What is returned is a new GeoSeries of the same length as the original dataframe, containing one row per country, but now containing only the intersection. In this example, the last element shown is an empty polygon, as that country was not overlapping with the box."
   ]
  },
  {
   "cell_type": "code",
   "execution_count": null,
   "id": "6b2eef08-f952-40dd-820a-60ae7f90004b",
   "metadata": {},
   "outputs": [],
   "source": [
    "# remove the empty polygons before plotting\n",
    "africa_intersection = africa_intersection[~africa_intersection.is_empty]\n",
    "# plot the intersection\n",
    "africa_intersection.plot()"
   ]
  },
  {
   "cell_type": "markdown",
   "id": "e8290de7-0217-4242-b778-9c828c6b2c93",
   "metadata": {},
   "source": [
    "Another useful method is to converts the set of geometry objects in a GeoDataFrame into a single geometry object by taking the union of all those geometries.\n",
    "\n",
    "For example, we can construct a single Shapely geometry object for the Africa continent:"
   ]
  },
  {
   "cell_type": "code",
   "execution_count": null,
   "id": "c9128984-28af-41b2-afab-e7966cec015a",
   "metadata": {},
   "outputs": [],
   "source": [
    "africa_countries = countries[countries['CONTINENT'] == 'Africa']"
   ]
  },
  {
   "cell_type": "code",
   "execution_count": null,
   "id": "908cf170-9748-4062-bef4-d6bac6884012",
   "metadata": {},
   "outputs": [],
   "source": [
    "africa = africa_countries.union_all()\n"
   ]
  },
  {
   "cell_type": "code",
   "execution_count": null,
   "id": "b6d3e644-c513-44c2-9367-a1d9d23e8b13",
   "metadata": {},
   "outputs": [],
   "source": [
    "africa"
   ]
  },
  {
   "cell_type": "code",
   "execution_count": null,
   "id": "6dfa216d-851d-49c3-9812-564f4e6fdad8",
   "metadata": {},
   "outputs": [],
   "source": [
    "print(str(africa)[:1000])"
   ]
  },
  {
   "cell_type": "code",
   "execution_count": null,
   "id": "dbc78aff-5ea7-4e76-a137-9b0e8b44cbc0",
   "metadata": {},
   "outputs": [],
   "source": [
    "# Dissolve method\n"
   ]
  },
  {
   "cell_type": "code",
   "execution_count": null,
   "id": "11ec96da-1806-4997-a641-f9cfea49c55f",
   "metadata": {},
   "outputs": [],
   "source": [
    "continents = countries.dissolve(by=\"CONTINENT\")   # , aggfunc=\"sum\""
   ]
  },
  {
   "cell_type": "code",
   "execution_count": null,
   "id": "c3eb1138-0367-4b4f-9e08-e181cf9040a9",
   "metadata": {},
   "outputs": [],
   "source": [
    "continents"
   ]
  },
  {
   "cell_type": "markdown",
   "id": "d68026d0-9160-4154-9588-70d0764d7ea0",
   "metadata": {},
   "source": [
    "<div class=\"alert alert-info\" style=\"font-size:120%\">\n",
    "\n",
    "**REMEMBER**:\n",
    "\n",
    "GeoPandas (and Shapely for the individual objects) provide a whole lot of basic methods to analyze the geospatial data (distance, length, centroid, boundary, convex_hull, simplify, transform, ....), much more than what we can touch in this tutorial.\n",
    "\n",
    "An overview of all methods provided by GeoPandas can be found here: https://geopandas.readthedocs.io/en/latest/docs/reference.html\n",
    "\n",
    "\n",
    "</div>"
   ]
  },
  {
   "cell_type": "markdown",
   "id": "71fc5c8b-0b76-4773-8b69-8f453be4523d",
   "metadata": {},
   "source": [
    "### Satellite Observations Over India\n"
   ]
  },
  {
   "cell_type": "code",
   "execution_count": null,
   "id": "abdd63fb-7133-4dde-8393-4264e37e08db",
   "metadata": {},
   "outputs": [],
   "source": [
    "import geopandas as gpd\n",
    "import pandas as pd\n",
    "import numpy as np\n",
    "import matplotlib.pyplot as plt\n",
    "from shapely.geometry import Point\n"
   ]
  },
  {
   "cell_type": "code",
   "execution_count": null,
   "id": "f28bf9fd-e116-4c28-8493-0acfbd9b9255",
   "metadata": {},
   "outputs": [],
   "source": [
    "# 🗂️ Load India boundary from Natural Earth shapefile\n",
    "shapefile_path = \"ne_110m_admin_0_countries.shp\"  # ✍️ Replace with actual local path to shapefile\n",
    "world = gpd.read_file(shapefile_path)\n",
    "india = world[world['NAME'] == 'India']  # ✍️ Filter for India\n"
   ]
  },
  {
   "cell_type": "code",
   "execution_count": null,
   "id": "fd4bee99-b5ab-4a8b-a6c3-3b2d6eb0a40c",
   "metadata": {},
   "outputs": [],
   "source": [
    "# 🎲 Generate synthetic satellite observation points within India's border\n",
    "np.random.seed(42)\n",
    "min_lat, max_lat = 6.5, 35.0\n",
    "min_lon, max_lon = 68.0, 97.5\n"
   ]
  },
  {
   "cell_type": "code",
   "execution_count": null,
   "id": "38f0c162-6967-4e7b-aafd-47fe5ec6ad77",
   "metadata": {},
   "outputs": [],
   "source": [
    "points = []\n",
    "while len(points) < 100:\n",
    "    lat = np.random.uniform(min_lat, max_lat)\n",
    "    lon = np.random.uniform(min_lon, max_lon)\n",
    "    if india.geometry.iloc[0].contains(Point(lon, lat)):  # ✍️ Keep only points within India\n",
    "        points.append((lon, lat))\n"
   ]
  },
  {
   "cell_type": "code",
   "execution_count": null,
   "id": "4ae29611-ee00-44c8-90e1-fd9417d79f91",
   "metadata": {},
   "outputs": [],
   "source": [
    "# 🧪 Simulate Temperature & NDVI data\n",
    "longitudes, latitudes = zip(*points)\n",
    "temperatures = 42 - 0.5 * (np.array(latitudes) - min_lat) + np.random.normal(0, 2, len(latitudes))\n",
    "ndvi = np.random.uniform(0.1, 0.9, len(latitudes))\n"
   ]
  },
  {
   "cell_type": "code",
   "execution_count": null,
   "id": "87432e1f-45b7-4868-8d21-af09c835ffd4",
   "metadata": {},
   "outputs": [],
   "source": [
    "# 📍 Create GeoDataFrame with coordinates and values\n",
    "gdf = gpd.GeoDataFrame({\n",
    "    'Temperature': temperatures,\n",
    "    'NDVI': ndvi\n",
    "}, geometry=[Point(lon, lat) for lon, lat in zip(longitudes, latitudes)], crs=\"EPSG:4326\")\n"
   ]
  },
  {
   "cell_type": "code",
   "execution_count": null,
   "id": "14f115dd-dbb1-4c65-aed1-03d6820283be",
   "metadata": {},
   "outputs": [],
   "source": [
    "# 🎨 Plot Static Maps (Temperature and NDVI)\n",
    "fig, ax = plt.subplots(1, 2, figsize=(16, 8))\n",
    "# 🔥 Subplot 1: Temperature\n",
    "india.boundary.plot(ax=ax[0], color='black')\n",
    "gdf.plot(ax=ax[0], column='Temperature', cmap='coolwarm', legend=True, markersize=50)\n",
    "ax[0].set_title(\"Temperature Observations over India\")\n",
    "ax[0].axis('off')\n",
    "\n",
    "# 🌿 Subplot 2: NDVI\n",
    "india.boundary.plot(ax=ax[1], color='black')\n",
    "gdf.plot(ax=ax[1], column='NDVI', cmap='YlGn', legend=True, markersize=50)\n",
    "ax[1].set_title(\"NDVI Observations over India\")\n",
    "ax[1].axis('off')\n",
    "\n",
    "# 💾 Save output\n",
    "plt.tight_layout()\n",
    "plt.savefig(\"india_satellite_static_map.png\", dpi=300)\n",
    "plt.show()\n"
   ]
  },
  {
   "cell_type": "markdown",
   "id": "913bb162",
   "metadata": {},
   "source": [
    "# Part 5: Interactive Mapping and Visualizing Satellite Data\n",
    "## This script introduces interactive mapping\n",
    "### 🗺️ MAPPING WITH FOLIUM: Temperature + NDVI + Heatmap"
   ]
  },
  {
   "cell_type": "code",
   "execution_count": null,
   "id": "f074e4a8",
   "metadata": {},
   "outputs": [],
   "source": [
    "# Folium Examples\n",
    "import folium\n",
    "from folium.plugins import HeatMap, MarkerCluster, TimeSliderChoropleth\n",
    "import numpy as np\n",
    "import json\n",
    "import requests"
   ]
  },
  {
   "cell_type": "code",
   "execution_count": null,
   "id": "6a9b40ac",
   "metadata": {},
   "outputs": [],
   "source": [
    "# 🗺️ Example 1: Basic Map\n",
    "map1 = folium.Map(location=[28.6139, 77.2090], zoom_start=10)\n",
    "map1.save(\"map1_basic.html\")"
   ]
  },
  {
   "cell_type": "code",
   "execution_count": null,
   "id": "e3d7e843",
   "metadata": {},
   "outputs": [],
   "source": [
    "# 📍 Example 2: Markers\n",
    "map2 = folium.Map(location=[22.0, 78.0], zoom_start=5)\n",
    "folium.Marker([28.6139, 77.2090], popup=\"New Delhi\").add_to(map2)\n",
    "folium.Marker([19.0760, 72.8777], popup=\"Mumbai\").add_to(map2)\n",
    "folium.Marker([13.0827, 80.2707], popup=\"Chennai\").add_to(map2)\n",
    "map2.save(\"map2_markers.html\")\n"
   ]
  },
  {
   "cell_type": "code",
   "execution_count": null,
   "id": "394a1a34",
   "metadata": {},
   "outputs": [],
   "source": [
    "\n",
    "# 🌡️ Example 3: Circle Markers for Temperature\n",
    "cities = ['Delhi', 'Mumbai', 'Bengaluru']\n",
    "lats = [28.61, 19.07, 12.97]\n",
    "lons = [77.20, 72.87, 77.59]\n",
    "temps = [39.5, 34.0, 31.2]\n",
    "map3 = folium.Map(location=[22.0, 78.0], zoom_start=5)\n",
    "for city, lat, lon, temp in zip(cities, lats, lons, temps):\n",
    "    folium.CircleMarker(\n",
    "        location=[lat, lon],\n",
    "        radius=8,\n",
    "        popup=f\"{city}: {temp}°C\",\n",
    "        color='red' if temp > 35 else 'blue',\n",
    "        fill=True,\n",
    "        fill_opacity=0.6\n",
    "    ).add_to(map3)\n",
    "map3.save(\"map3_circles.html\")"
   ]
  },
  {
   "cell_type": "code",
   "execution_count": null,
   "id": "1d4f313c",
   "metadata": {},
   "outputs": [],
   "source": [
    "# 🔥 Example 4: HeatMap\n",
    "heat_data = [\n",
    "    [28.61, 77.20, 0.9],\n",
    "    [28.70, 77.10, 0.6],\n",
    "    [28.65, 77.30, 0.7]\n",
    "]\n",
    "map4 = folium.Map(location=[28.61, 77.20], zoom_start=12)\n",
    "HeatMap(heat_data, radius=25).add_to(map4)\n",
    "map4.save(\"map4_heatmap.html\")"
   ]
  },
  {
   "cell_type": "code",
   "execution_count": null,
   "id": "2b60870b",
   "metadata": {},
   "outputs": [],
   "source": [
    "# 🛰️ Example 5: Satellite Layer\n",
    "map5 = folium.Map(location=[22.5, 79.0], zoom_start=5)\n",
    "folium.TileLayer(\n",
    "    tiles='https://gibs.earthdata.nasa.gov/wmts/epsg3857/best/BlueMarble_ShadedRelief_Bathymetry/default/2022-07-01/GoogleMapsCompatible_Level8/{z}/{y}/{x}.jpg',\n",
    "    attr='NASA GIBS',\n",
    "    name='NASA BlueMarble',\n",
    "    overlay=True,\n",
    "    control=True\n",
    ").add_to(map5)\n",
    "folium.LayerControl().add_to(map5)\n",
    "map5.save(\"map5_satellite_layer.html\")"
   ]
  },
  {
   "cell_type": "code",
   "execution_count": null,
   "id": "49c03aad-7708-43be-a45c-1eb9da7e2e8c",
   "metadata": {},
   "outputs": [],
   "source": [
    "import geopandas as gpd\n",
    "import pandas as pd\n",
    "import numpy as np\n",
    "import folium\n",
    "from folium.plugins import HeatMap\n",
    "from shapely.geometry import Point\n",
    "\n"
   ]
  },
  {
   "cell_type": "code",
   "execution_count": null,
   "id": "638c8d86-4f52-42f8-bbd6-10f688bc00c7",
   "metadata": {},
   "outputs": [],
   "source": [
    "# 🗂️ Load shapefile (Natural Earth data)\n",
    "shapefile_path = \"ne_110m_admin_0_countries.shp\"  # ✍️ Make sure this file exists in your working folder\n",
    "world = gpd.read_file(shapefile_path)\n"
   ]
  },
  {
   "cell_type": "code",
   "execution_count": null,
   "id": "b0f68bd3-b887-47d5-88d9-0b0399081835",
   "metadata": {},
   "outputs": [],
   "source": [
    "# ✂️ Filter only India geometry\n",
    "india_geom = world[world['NAME'] == 'India'].geometry.values[0]\n"
   ]
  },
  {
   "cell_type": "code",
   "execution_count": null,
   "id": "b3086942-34ee-44e4-809f-ff0002d83b28",
   "metadata": {},
   "outputs": [],
   "source": [
    "# 🎲 Generate 100 random lat/lon points strictly inside India\n",
    "np.random.seed(42)\n",
    "min_lat, max_lat = 6.5, 35.0\n",
    "min_lon, max_lon = 68.0, 97.5\n"
   ]
  },
  {
   "cell_type": "code",
   "execution_count": null,
   "id": "d3add597-3895-4bf0-82a4-63722b5b0325",
   "metadata": {},
   "outputs": [],
   "source": [
    "points = []\n",
    "while len(points) < 100:\n",
    "    lat = np.random.uniform(min_lat, max_lat)\n",
    "    lon = np.random.uniform(min_lon, max_lon)\n",
    "    if india_geom.contains(Point(lon, lat)):  # ✍️ Only keep valid points within India's boundary\n",
    "        points.append((lat, lon))\n"
   ]
  },
  {
   "cell_type": "code",
   "execution_count": null,
   "id": "c746079c-7ac1-49e7-a937-8e4e4b454cab",
   "metadata": {},
   "outputs": [],
   "source": [
    "# 🧪 Simulate Temperature and NDVI readings\n",
    "latitudes, longitudes = zip(*points)\n",
    "temperatures = 42 - 0.5 * (np.array(latitudes) - min_lat) + np.random.normal(0, 2, len(latitudes))\n",
    "ndvi_values = np.random.uniform(0.1, 0.9, len(latitudes))\n"
   ]
  },
  {
   "cell_type": "code",
   "execution_count": null,
   "id": "c8113a13-9f40-44fe-8117-8e4d5f32f848",
   "metadata": {},
   "outputs": [],
   "source": [
    "# 🧾 Organize into DataFrame\n",
    "data = pd.DataFrame({\n",
    "    'Latitude': latitudes,\n",
    "    'Longitude': longitudes,\n",
    "    'Temperature': temperatures,\n",
    "    'NDVI': ndvi_values\n",
    "})\n"
   ]
  },
  {
   "cell_type": "code",
   "execution_count": null,
   "id": "87d9c595-32ed-4b47-b355-e6afa3710199",
   "metadata": {},
   "outputs": [],
   "source": [
    "# 🗺️ Create folium base map centered on India\n",
    "india_map = folium.Map(location=[22.0, 80.0], zoom_start=5, tiles='OpenStreetMap')\n"
   ]
  },
  {
   "cell_type": "code",
   "execution_count": null,
   "id": "250b120b-e119-43e6-a843-a8f8ed91c3f1",
   "metadata": {},
   "outputs": [],
   "source": [
    "# 📍 Add Circle Markers showing temperature & NDVI\n",
    "for _, row in data.iterrows():\n",
    "    folium.CircleMarker(\n",
    "        location=[row['Latitude'], row['Longitude']],\n",
    "        radius=5,\n",
    "        popup=f\"Temp: {row['Temperature']:.1f} °C, NDVI: {row['NDVI']:.2f}\",\n",
    "        color='blue' if row['Temperature'] < 30 else 'red',  # 🔵 Cool / 🔴 Hot\n",
    "        fill=True,\n",
    "        fill_opacity=0.7\n",
    "    ).add_to(india_map)\n"
   ]
  },
  {
   "cell_type": "code",
   "execution_count": null,
   "id": "45b6d500-8142-435e-a840-f22d31b3eac3",
   "metadata": {},
   "outputs": [],
   "source": [
    "# 🔥 Add NDVI HeatMap\n",
    "heat_data = [[row['Latitude'], row['Longitude'], row['NDVI']] for _, row in data.iterrows()]\n",
    "HeatMap(heat_data, radius=15).add_to(india_map)\n"
   ]
  },
  {
   "cell_type": "code",
   "execution_count": null,
   "id": "7fe74c08-4811-452e-814d-eaf751b7002a",
   "metadata": {},
   "outputs": [],
   "source": [
    "# 💾 Save to interactive HTML\n",
    "india_map.save(\"accurate_india_satellite_map.html\")\n",
    "print(\"🎯 Map saved as 'accurate_india_satellite_map.html'\")\n"
   ]
  },
  {
   "cell_type": "markdown",
   "id": "604ed36f-9847-4e49-8235-6f5a35d51a25",
   "metadata": {},
   "source": [
    "# Part 6. Advanced Analysis with Xarray"
   ]
  },
  {
   "cell_type": "code",
   "execution_count": null,
   "id": "95c7d308-567e-407c-af73-d60718d4188c",
   "metadata": {},
   "outputs": [],
   "source": [
    "import xarray as xr\n",
    "data = xr.open_dataset('OMI-Aura_L2-example.nc')\n",
    "print(data)"
   ]
  },
  {
   "cell_type": "markdown",
   "id": "aab65aad-8e77-4bd7-941f-40eebd63f517",
   "metadata": {},
   "source": [
    "**Explore Dataset Variables**  "
   ]
  },
  {
   "cell_type": "code",
   "execution_count": null,
   "id": "f4b216f4-9fb1-497c-8379-910f63f0feec",
   "metadata": {},
   "outputs": [],
   "source": [
    "   # List all variables in the dataset\n",
    "   print(data.variables)"
   ]
  },
  {
   "cell_type": "markdown",
   "id": "e574cc90-45b6-49bb-938c-4263fe9f44d6",
   "metadata": {},
   "source": [
    "**Access Data Variables**  "
   ]
  },
  {
   "cell_type": "code",
   "execution_count": null,
   "id": "3f134cfc-9402-4100-b7cd-2f57f70ea267",
   "metadata": {},
   "outputs": [],
   "source": [
    "nlat = data['LATITUDE']\n",
    "print(nlat)\n",
    "\n",
    "nlon = data['LONGITUDE']\n",
    "print(nlon)\n"
   ]
  },
  {
   "cell_type": "code",
   "execution_count": null,
   "id": "fd8fcef6-698c-4be8-a761-2e0269a854e2",
   "metadata": {},
   "outputs": [],
   "source": [
    "nO3col = data['ColumnAmountO3']\n",
    "print(nO3col)"
   ]
  },
  {
   "cell_type": "code",
   "execution_count": null,
   "id": "83a5a850-34bb-470b-8cc8-d3a2548c11ea",
   "metadata": {},
   "outputs": [],
   "source": [
    "# Calculate mean temperature over time\n",
    "meanlat = nlat.mean()\n",
    "print(meanlat)"
   ]
  },
  {
   "cell_type": "code",
   "execution_count": null,
   "id": "881aaf12-1db6-4600-9956-b353644d3296",
   "metadata": {},
   "outputs": [],
   "source": [
    "plt.plot(nlon, nlat)\n",
    "plt.title('lat vs lon')\n",
    "plt.show()"
   ]
  },
  {
   "cell_type": "markdown",
   "id": "84f155b9-9ed2-4712-ba7c-a494657e6e56",
   "metadata": {},
   "source": [
    "### Ocean data"
   ]
  },
  {
   "cell_type": "code",
   "execution_count": null,
   "id": "461d8095-155f-49c9-8b98-6daf0edca317",
   "metadata": {},
   "outputs": [],
   "source": [
    "# Importing NetCDF4 data in Python\n",
    "import xarray as xr\n",
    "import netCDF4 as nc"
   ]
  },
  {
   "cell_type": "code",
   "execution_count": null,
   "id": "326530f5-dab2-4883-bf07-410bb8b460b1",
   "metadata": {},
   "outputs": [],
   "source": [
    "# Open the file and load it as an xarray dataset:\n",
    "ds = xr.open_dataset('CRW_sst.nc',decode_cf=False)"
   ]
  },
  {
   "cell_type": "code",
   "execution_count": null,
   "id": "32bb9a7d-14b6-4ef6-9a5f-59da48a48129",
   "metadata": {},
   "outputs": [],
   "source": [
    "#examine the data structure:\n",
    "ds"
   ]
  },
  {
   "cell_type": "code",
   "execution_count": null,
   "id": "b9ef9186-6bec-4a03-8bc1-8af6004127ea",
   "metadata": {},
   "outputs": [],
   "source": [
    "ds.coords"
   ]
  },
  {
   "cell_type": "code",
   "execution_count": null,
   "id": "f71f3845-2b79-4047-b09e-4ef6abb26d7a",
   "metadata": {},
   "outputs": [],
   "source": [
    "ds.data_vars"
   ]
  },
  {
   "cell_type": "code",
   "execution_count": null,
   "id": "a0c6e561-4dbb-4523-a990-0bd6c6841537",
   "metadata": {},
   "outputs": [],
   "source": [
    "# examine the structure of analysed_sst\n",
    "ds.analysed_sst.shape"
   ]
  },
  {
   "cell_type": "markdown",
   "id": "96004f98-3eb3-42a2-b965-15b687ba9391",
   "metadata": {},
   "source": [
    "**Our dataset is a 3-D array with 261 rows corresponding to latitudes and 301 columns corresponding to longitudes, for each of the 12 time steps.\n",
    "get the dates for each time step**"
   ]
  },
  {
   "cell_type": "code",
   "execution_count": null,
   "id": "b52fcee9-8041-4850-af8c-354cb5ef598c",
   "metadata": {},
   "outputs": [],
   "source": [
    "ds.time"
   ]
  },
  {
   "cell_type": "code",
   "execution_count": null,
   "id": "0348222d-6dd7-4fdc-be9e-3c26e4baf770",
   "metadata": {},
   "outputs": [],
   "source": [
    "dates=nc.num2date(ds.time,ds.time.units,only_use_cftime_datetimes=False)\n",
    "dates"
   ]
  },
  {
   "cell_type": "markdown",
   "id": "5f95d5fb-144d-4233-9771-d675311c7c10",
   "metadata": {},
   "source": [
    "`Working with the extracted data\n",
    "Creating a map for one time step\n",
    "Let's create a map of SST for January 2018 (our first time step).`"
   ]
  },
  {
   "cell_type": "code",
   "execution_count": null,
   "id": "358d2d38-f9dc-4a2a-bef4-88eee2f3ea81",
   "metadata": {},
   "outputs": [],
   "source": [
    "import pandas as pd\n",
    "import numpy as np\n",
    "from matplotlib import pyplot as plt\n",
    "from matplotlib.colors import LinearSegmentedColormap\n"
   ]
  },
  {
   "cell_type": "code",
   "execution_count": null,
   "id": "8e65ecd7-bb34-45fd-b8d4-f71bd4b9540b",
   "metadata": {},
   "outputs": [],
   "source": [
    "# set some color breaks\n",
    "np.nanmin(ds.analysed_sst)"
   ]
  },
  {
   "cell_type": "code",
   "execution_count": null,
   "id": "7cc70d52-d16e-4312-9e18-5f27db19cedc",
   "metadata": {},
   "outputs": [],
   "source": [
    "np.nanmax(ds.analysed_sst)"
   ]
  },
  {
   "cell_type": "code",
   "execution_count": null,
   "id": "45497f57-7ed1-45b2-99c4-49d6001c06b1",
   "metadata": {},
   "outputs": [],
   "source": [
    "levs = np.arange(-2.0, 34.68, 5)"
   ]
  },
  {
   "cell_type": "code",
   "execution_count": null,
   "id": "34b4d858-c6f6-4069-b5b9-a63b17c9a916",
   "metadata": {},
   "outputs": [],
   "source": [
    "# define a color palette\n",
    "jet=[\"blue\", \"#007FFF\", \"cyan\",\"#7FFF7F\", \"yellow\", \"#FF7F00\", \"red\", \"#7F0000\"]"
   ]
  },
  {
   "cell_type": "code",
   "execution_count": null,
   "id": "012a7fe5-41b1-40c2-aa2a-4cab4173f86f",
   "metadata": {},
   "outputs": [],
   "source": [
    "# set color scale using the jet palette\n",
    "cm = LinearSegmentedColormap.from_list('my_jet', jet, N=len(levs))"
   ]
  },
  {
   "cell_type": "code",
   "execution_count": null,
   "id": "e7580647-8a48-45ec-9d13-f2e50966cb50",
   "metadata": {},
   "outputs": [],
   "source": [
    "# plot the SST map\n",
    "plt.contourf(ds.longitude, ds.latitude, ds.analysed_sst[0,:,:], levs,cmap='jet')\n",
    "#plot the color scale\n",
    "plt.colorbar()\n",
    "#example of how to add points to the map\n",
    "plt.scatter(range(202,206),np.repeat(26,4),c='black')\n",
    "#example of how to add a contour line\n",
    "plt.contour(ds.longitude, ds.latitude, ds.analysed_sst[0,:,:],levels=[20],linewidths=1)\n",
    "#plot title\n",
    "plt.title(\"Monthly Sea Surface Temperature \" + dates[0].strftime('%b %Y'))\n",
    "\n",
    "plt.show()"
   ]
  },
  {
   "cell_type": "code",
   "execution_count": null,
   "id": "7e8c5cd0",
   "metadata": {},
   "outputs": [],
   "source": [
    "# plot the SST map\n",
    "plt.contourf(ds.longitude, ds.latitude, ds.analysed_sst[0,:,:], levs,cmap='jet')\n",
    "#plot the color scale\n",
    "plt.colorbar()\n",
    "#example of how to add points to the map\n",
    "plt.scatter(range(202,206),np.repeat(26,4),c='black')\n",
    "#example of how to add a contour line\n",
    "plt.contour(ds.longitude, ds.latitude, ds.analysed_sst[0,:,:],levels=[20],linewidths=1)\n",
    "#plot title\n",
    "plt.title(\"Sea Surface Temperature over Indian Ocean \" + dates[0].strftime('%b %Y'))\n",
    "plt.xlim([20,100])\n",
    "plt.ylim([-20,30])\n",
    "plt.show()"
   ]
  },
  {
   "cell_type": "markdown",
   "id": "95c8bd03-9249-4d7a-8bd4-2b233b9fd8fa",
   "metadata": {},
   "source": [
    "### Plotting a time series"
   ]
  },
  {
   "cell_type": "code",
   "execution_count": null,
   "id": "cff5b91f-6569-4b96-ad7f-696ee1bd4e30",
   "metadata": {},
   "outputs": [],
   "source": [
    "lat_bnds, lon_bnds = [18, 23], [200, 206]\n",
    "#da=ds.sel(latitude=slice(*lat_bnds), longitude=slice(*lon_bnds))\n",
    "da=ds.sel(latitude=slice(18, 23), longitude=slice(200,206))\n"
   ]
  },
  {
   "cell_type": "code",
   "execution_count": null,
   "id": "72932a41",
   "metadata": {},
   "outputs": [],
   "source": [
    "da.longitude"
   ]
  },
  {
   "cell_type": "code",
   "execution_count": null,
   "id": "b22658b8",
   "metadata": {},
   "outputs": [],
   "source": [
    "da.latitude"
   ]
  },
  {
   "cell_type": "code",
   "execution_count": null,
   "id": "a6bc09cc-2d73-4285-abc4-70c1ae9f33ad",
   "metadata": {},
   "outputs": [],
   "source": [
    "# let's plot the subset:\n",
    "plt.contourf(da.longitude, da.latitude, da.analysed_sst[0,:,:], levs,cmap='jet')\n",
    "plt.colorbar()\n",
    "plt.title(\"Monthly Sea Surface Temperature \" + dates[0].strftime('%b %Y'))\n",
    "plt.show()"
   ]
  },
  {
   "cell_type": "code",
   "execution_count": null,
   "id": "56682214-4c12-473c-af0b-7cce86183e10",
   "metadata": {},
   "outputs": [],
   "source": [
    "#et's compute the monthly mean over the bounding region:\n",
    "res=np.mean(da.analysed_sst,axis=(1,2))"
   ]
  },
  {
   "cell_type": "code",
   "execution_count": null,
   "id": "a0772ec5-3474-4580-a1d7-8b8a5423c2b8",
   "metadata": {},
   "outputs": [],
   "source": [
    "# let's plot the time-series:\n",
    "plt.figure(figsize=(8,4))\n",
    "plt.scatter(dates,res)\n",
    "plt.ylabel('SST (ºC)')"
   ]
  },
  {
   "cell_type": "code",
   "execution_count": null,
   "id": "d0502ed3-18be-4238-9fdb-96d18f1464b5",
   "metadata": {},
   "outputs": [],
   "source": [
    "# Mean\n",
    "mean_sst=np.mean(ds.analysed_sst,axis=0)"
   ]
  },
  {
   "cell_type": "code",
   "execution_count": null,
   "id": "87bdd697-5125-4475-b1e5-8e1b67c21ce3",
   "metadata": {},
   "outputs": [],
   "source": [
    "mean_sst.shape"
   ]
  },
  {
   "cell_type": "code",
   "execution_count": null,
   "id": "713b3595-63db-4aae-a19b-bc553ea5b3c9",
   "metadata": {},
   "outputs": [],
   "source": [
    "# plottig the mean \n",
    "plt.contourf(ds.longitude, ds.latitude, mean_sst, levs,cmap='jet')\n",
    "plt.colorbar()\n",
    "plt.title(\"Mean SST \")\n",
    "plt.show()"
   ]
  },
  {
   "cell_type": "code",
   "execution_count": null,
   "id": "ad0fdf91-76ae-4f61-bd73-903d80ab8d38",
   "metadata": {},
   "outputs": [],
   "source": [
    "print(\" End of Day 4\")\n"
   ]
  }
 ],
 "metadata": {
  "kernelspec": {
   "display_name": "geoexplorer",
   "language": "python",
   "name": "python3"
  },
  "language_info": {
   "codemirror_mode": {
    "name": "ipython",
    "version": 3
   },
   "file_extension": ".py",
   "mimetype": "text/x-python",
   "name": "python",
   "nbconvert_exporter": "python",
   "pygments_lexer": "ipython3",
   "version": "3.10.16"
  }
 },
 "nbformat": 4,
 "nbformat_minor": 5
}
