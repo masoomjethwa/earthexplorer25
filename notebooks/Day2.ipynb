{
 "cells": [
  {
   "cell_type": "markdown",
   "id": "0390b919-cb80-4570-8be7-2cdd7b3c2e3b",
   "metadata": {},
   "source": [
    "# Day 2"
   ]
  },
  {
   "cell_type": "markdown",
   "id": "0b5e12f3-7e8d-42ac-9dc7-be5a3ca29f8b",
   "metadata": {},
   "source": [
    "# Part 1: Variables and Data types"
   ]
  },
  {
   "cell_type": "code",
   "execution_count": null,
   "id": "4a2c2ed2-2de7-4708-9280-399acde90b3c",
   "metadata": {},
   "outputs": [],
   "source": [
    "import pandas as pd\n",
    "import matplotlib.pyplot as plt\n"
   ]
  },
  {
   "cell_type": "code",
   "execution_count": null,
   "id": "3ce6a859-c636-404c-a086-9bcd4758c8e8",
   "metadata": {},
   "outputs": [],
   "source": [
    "print(\"Welcome to Day 2: Exploring Data!\")\n",
    "print(\"------------------------------------------\")"
   ]
  },
  {
   "cell_type": "markdown",
   "id": "20eb57f3-57ea-4baf-825f-86bc42a241a9",
   "metadata": {},
   "source": [
    "Now that our working environment is set, and we know how to edit and execute Python code through Jupyter Notebook (see {ref}`setup`), we move on the Python language itself. In this chapter, we introduce the basic concepts, operators, and data types, in Python."
   ]
  },
  {
   "cell_type": "markdown",
   "id": "74549781-4393-4ccb-93db-7f6c795d75b5",
   "metadata": {},
   "source": [
    "Throughout most of the chapter, we are going to cover *data types*, in terms of their properties and their behavior. These include the elementary \"atomic\" data types, namely: \n",
    "\n",
    "* `int` (see {ref}`numbers-int-float`),\n",
    "* `float` (see {ref}`numbers-int-float`), \n",
    "* `bool` (see {ref}`boolean-values`), and\n",
    "* `None` (see {ref}`none`),"
   ]
  },
  {
   "cell_type": "markdown",
   "id": "2c34d0c5-45ee-4d6f-9dae-bfd03f2bf695",
   "metadata": {},
   "source": [
    "as well as the more complex \"collection\" data types, namely: \n",
    "\n",
    "* `str` (see {ref}`strings`),\n",
    "* `list` (see {ref}`lists`),\n",
    "* `dict` (see {ref}`tuples`),\n",
    "* `tuple` (see {ref}`dict`), and\n",
    "* `set` (see {ref}`sets`)."
   ]
  },
  {
   "cell_type": "markdown",
   "id": "116bc787-aaeb-4703-97db-bc7e25e8925f",
   "metadata": {},
   "source": [
    "(variables)=\n",
    "## Variables and assignment"
   ]
  },
  {
   "cell_type": "markdown",
   "id": "6ed1a837-2765-42db-834d-6b5d490f7022",
   "metadata": {},
   "source": [
    "Assignment in Python is done using the assignment operator `=`: \n",
    "\n",
    "* To the left of the `=` operator we specify the variable *name* of our choice\n",
    "* To the right of the `=` operator we specify the *value* to be assigned\n",
    "\n",
    "For example, the following expression assigns the numeric value of `3` to a variable named `x`:"
   ]
  },
  {
   "cell_type": "markdown",
   "id": "2097814a-546d-4aea-bc13-466520525470",
   "metadata": {},
   "source": [
    "(functions)=\n",
    "## Functions"
   ]
  },
  {
   "cell_type": "markdown",
   "id": "bb1b673f-df3e-4624-bc41-cfa4cc5d7a5c",
   "metadata": {},
   "source": [
    "Functions are named pieces of code, to perform a particular job. We will often be executing: \n",
    "\n",
    "* Built-in functions\n",
    "* Functions from the standard library\n",
    "* Functions from third-party packages (see {ref}`loading-packages`)"
   ]
  },
  {
   "cell_type": "markdown",
   "id": "a36da90d-dff0-4144-998a-d1708c47fafc",
   "metadata": {},
   "source": [
    "(basic-data-types)=\n",
    "## Data types"
   ]
  },
  {
   "cell_type": "markdown",
   "id": "e1e009ea-d826-41dd-976b-e6174a004d25",
   "metadata": {},
   "source": [
    "```{table} Python data types\n",
    ":name: data-types\n",
    "\n",
    "| Data type | Meaning | Divisibility | Mutability | Example |\n",
    "|---|---|---|---|---|\n",
    "| `int` | Integer | atomic | immutable | `7` | \n",
    "| `float` | Float | atomic | immutable | `3.2` | \n",
    "| `bool` | Boolean | atomic | immutable | `True` |\n",
    "| `None` | None | atomic | immutable | `None` |\n",
    "| `str` | String | collection | immutable | `\"Hello!\"` | \n",
    "| `list` | List | collection | mutable | `[1,2,3]` |\n",
    "| `tuple` | Tuple | collection | immutable | `(1,2)` |\n",
    "| `dict` | Dictionary | collection | mutable | `{\"a\":2,\"b\":7}` |\n",
    "| `set` | Set | collection | mutable | `{\"a\",\"b\"}` |\n",
    "```"
   ]
  },
  {
   "cell_type": "markdown",
   "id": "751601ac-1dab-4680-bfc6-48c574e1282f",
   "metadata": {},
   "source": [
    "(arithmetic-operators)=\n",
    "### Arithmetic operators"
   ]
  },
  {
   "cell_type": "markdown",
   "id": "94a46b64-b9f6-4669-8342-510f949b7b15",
   "metadata": {},
   "source": [
    "The ordinary arithmetic operators in Python are given in {numref}`arithmetic-ops`."
   ]
  },
  {
   "cell_type": "markdown",
   "id": "d6c7fc75-6776-42a4-80d9-8838feefd89d",
   "metadata": {},
   "source": [
    "```{table} Arithmetic operators in Python\n",
    ":name: arithmetic-ops\n",
    "\n",
    "| Operator | Meaning |\n",
    "|---|---|\n",
    "| `+` | Addition |\n",
    "| `-` | Subtraction |\n",
    "| `*` | Multiplication |\n",
    "| `/` | Division |\n",
    "| `**` | Exponent |\n",
    "| `//` | Floor divition |\n",
    "| `%` | Modulus |\n",
    "```"
   ]
  },
  {
   "cell_type": "markdown",
   "id": "72dd25b6-f395-4558-a5ee-755ad54c6849",
   "metadata": {},
   "source": [
    "### Increment assignment"
   ]
  },
  {
   "cell_type": "markdown",
   "id": "6ffd0086-704e-4c69-9791-7cfa66cb2438",
   "metadata": {},
   "source": [
    "Another commonly used Python operator is the *increment assignment* operator `+=`. The increment assignment is a shortcut to addition combined with assignment, i.e., `x+=y` is a shorter way to express `x=x+y`. For example:"
   ]
  },
  {
   "cell_type": "code",
   "execution_count": null,
   "id": "5f056108-a27d-40be-9806-de353f4db89a",
   "metadata": {},
   "outputs": [],
   "source": [
    "x = 10\n",
    "x += 5\n",
    "x"
   ]
  },
  {
   "cell_type": "markdown",
   "id": "bc514e28-e851-4a2f-8705-1317e35662fb",
   "metadata": {},
   "source": [
    "(boolean-values)=\n",
    "## Boolean values (`bool`)"
   ]
  },
  {
   "cell_type": "markdown",
   "id": "5bc52bbb-4bc8-472d-b475-aa7450488bdc",
   "metadata": {},
   "source": [
    "[Boolean values](https://en.wikipedia.org/wiki/Boolean_data_type) represent one of two states, \"true\" or \"false\". Accordingly, the boolean data type in Python can have just one of two possible values, `True` and `False`. Boolean values can be created by literally typying `True` and `False`: "
   ]
  },
  {
   "cell_type": "code",
   "execution_count": null,
   "id": "7c0bb228-4f4f-4abb-9a7e-0700e368714c",
   "metadata": {},
   "outputs": [],
   "source": [
    "x = True"
   ]
  },
  {
   "cell_type": "code",
   "execution_count": null,
   "id": "1291eb3b-8636-48a9-b228-a05f0a8b7d38",
   "metadata": {},
   "outputs": [],
   "source": [
    "x"
   ]
  },
  {
   "cell_type": "code",
   "execution_count": null,
   "id": "20a0d9df-7f25-4785-ad99-4baa522865ce",
   "metadata": {},
   "outputs": [],
   "source": [
    "type(x)"
   ]
  },
  {
   "cell_type": "markdown",
   "id": "91f35cb9-13eb-426d-8f82-d3ec75d7a15c",
   "metadata": {},
   "source": [
    "Conditions involve *conditional operators*, such as `>` (greater than) in the above example. The conditional operators in Python are summarized in {numref}`conditional-ops`."
   ]
  },
  {
   "cell_type": "markdown",
   "id": "3e219273-3131-4b32-a5f4-03fcfc36298c",
   "metadata": {},
   "source": [
    "```{table} Conditional operators in Python\n",
    ":name: conditional-ops\n",
    "\n",
    "| Operator | Meaning |\n",
    "|---|---|\n",
    "| `==` | Equal |\n",
    "| `!=` | Not equal |\n",
    "| `<` | Less than |\n",
    "| `<=` | Less than or equal |\n",
    "| `>` | Greater than |\n",
    "| `>=` | Greater than or equal |\n",
    "```"
   ]
  },
  {
   "cell_type": "code",
   "execution_count": null,
   "id": "e70205f7-f05b-43ba-965e-4c6ef75296f7",
   "metadata": {},
   "outputs": [],
   "source": [
    "ax = 11\n",
    "ax > 10"
   ]
  },
  {
   "cell_type": "code",
   "execution_count": null,
   "id": "170727f1-a94f-4b42-b568-18374d9917cb",
   "metadata": {},
   "outputs": [],
   "source": [
    "x <= 10"
   ]
  },
  {
   "cell_type": "markdown",
   "id": "3c665df8-2d7b-4b2c-a6e4-8a1c103a20fb",
   "metadata": {},
   "source": [
    "```{note}\n",
    "Working with stings is less relevant for our purposes in this book. Nevertheless, here is a list of useful string methods to get an impression of the built-in methods for strings in Python:\n",
    "\n",
    "* `.strip`—Remove spaces from start and end\n",
    "* `.lower`—Convert to lowercase\n",
    "* `.upper`—Convert to uppercase\n",
    "* `.title`—Convert to titlecase\n",
    "* `.startswith(pattern)`—Check if string starts with `pattern`\n",
    "* `.endswith(pattern)`—Check if string ends with `pattern`\n",
    "* `.find(pattern)`—Find the index of `pattern` within the string\n",
    "* `sep.join([str1, str2, ...])`—Join strings `str1`, `str2`, etc., using the `sep` string as separator \n",
    "```"
   ]
  },
  {
   "cell_type": "markdown",
   "id": "ffa94fe5-dbc1-4045-a4b8-73f10581e75e",
   "metadata": {},
   "source": [
    "# Part 2: Introduction to Pandas\n"
   ]
  },
  {
   "cell_type": "code",
   "execution_count": null,
   "id": "c6768a7f-635d-416f-bd36-42f76181c967",
   "metadata": {},
   "outputs": [],
   "source": [
    "print(\"\\nPart 1: Loading data with pandas\")\n",
    "print(\"--------------------------------\")\n"
   ]
  },
  {
   "cell_type": "markdown",
   "id": "fa41f730-15af-418a-908a-d3577ff7ed69",
   "metadata": {},
   "source": [
    "# Create a simple sample dataset if needed (students would normally load real data)\n",
    "# This simulates a CSV file with temperature readings from satellite over time\n"
   ]
  },
  {
   "cell_type": "code",
   "execution_count": null,
   "id": "0ea5fd37-930b-4f60-bac9-c7e07eec1ed6",
   "metadata": {},
   "outputs": [],
   "source": [
    "data = {\n",
    "    'Date': ['2015-01-01', '2016-01-01', '2017-01-01', '2018-01-01', '2019-01-01',\n",
    "             '2020-01-01', '2021-01-01', '2022-01-01', '2023-01-01', '2024-01-10'],\n",
    "    'Temperature': [22.5, 23.1, 23.8, 22.9, 24.0, 25.2, 24.8, 23.5, 22.0, 21.5],\n",
    "    'Location': ['Forest', 'Forest', 'Forest', 'Forest', 'Forest', \n",
    "                 'Urban', 'Urban', 'Urban', 'Urban', 'Urban']\n",
    "}\n"
   ]
  },
  {
   "cell_type": "code",
   "execution_count": null,
   "id": "8753baac-a34e-4c70-aab6-221627d42617",
   "metadata": {},
   "outputs": [],
   "source": [
    "data"
   ]
  },
  {
   "cell_type": "code",
   "execution_count": null,
   "id": "e0027b6b-d73c-435a-a863-90081c5e944d",
   "metadata": {},
   "outputs": [],
   "source": [
    "# Create DataFrame\n",
    "df = pd.DataFrame(data)\n"
   ]
  },
  {
   "cell_type": "code",
   "execution_count": null,
   "id": "d001756d-baaa-482d-8549-4584639c62e6",
   "metadata": {},
   "outputs": [],
   "source": [
    "# Display the first few rows\n",
    "print(\"\\nFirst 5 rows of our satellite temperature data:\")\n",
    "print(df.head())\n"
   ]
  },
  {
   "cell_type": "code",
   "execution_count": null,
   "id": "57fca779-f2c6-4417-aae1-77b014f33725",
   "metadata": {},
   "outputs": [],
   "source": [
    "# Display basic statistics\n",
    "print(\"\\nBasic statistics about our temperature data:\")\n",
    "print(df.describe())\n"
   ]
  },
  {
   "cell_type": "code",
   "execution_count": null,
   "id": "bae298e8-0707-4486-8ede-0bcea73e117a",
   "metadata": {},
   "outputs": [],
   "source": [
    "# Convert Date to datetime format\n",
    "df['Date'] = pd.to_datetime(df['Date'])\n"
   ]
  },
  {
   "cell_type": "code",
   "execution_count": null,
   "id": "3334f563-3701-442a-9438-9a42af90e550",
   "metadata": {},
   "outputs": [],
   "source": [
    "print(\"\\nInformation about our dataset:\")\n",
    "print(f\"Number of readings: {len(df)}\")\n",
    "print(f\"Average temperature: {df['Temperature'].mean():.1f}°C\")\n",
    "print(f\"Maximum temperature: {df['Temperature'].max()}°C\")\n",
    "print(f\"Minimum temperature: {df['Temperature'].min()}°C\")\n"
   ]
  },
  {
   "cell_type": "markdown",
   "id": "ec9d6655-00d3-4265-83ea-8d3eef28567f",
   "metadata": {},
   "source": [
    "# Part 3: Basic Data Visualization\n"
   ]
  },
  {
   "cell_type": "code",
   "execution_count": null,
   "id": "1ec093df-158e-47b8-8bd1-caf2c29426c7",
   "metadata": {},
   "outputs": [],
   "source": [
    "print(\"\\n\\nPart 2: Visualizing  data\")\n",
    "print(\"----------------------------------\")\n"
   ]
  },
  {
   "cell_type": "code",
   "execution_count": null,
   "id": "b9e1f48a-100a-4c46-b125-0fc89266fa8b",
   "metadata": {},
   "outputs": [],
   "source": [
    "# Create a basic line plot of temperature over time\n",
    "print(\"Creating a line plot of temperature over time...\")\n"
   ]
  },
  {
   "cell_type": "code",
   "execution_count": null,
   "id": "ba461b5d-760a-4ae2-adc1-310784789d03",
   "metadata": {},
   "outputs": [],
   "source": [
    "plt.figure(figsize=(10, 6))\n",
    "plt.plot(df['Date'], df['Temperature'], marker='o', linestyle='-', color='red')\n",
    "plt.xlabel('Date')\n",
    "plt.ylabel('Temperature (°C)')\n",
    "plt.title('Satellite Temperature Readings Over Time')\n",
    "plt.grid(True)\n",
    "plt.xticks(rotation=45)\n"
   ]
  },
  {
   "cell_type": "code",
   "execution_count": null,
   "id": "b89ed4d0-cdfc-4960-98fe-635d3598cc1d",
   "metadata": {},
   "outputs": [],
   "source": [
    "# Save the plot to a file\n",
    "plt.tight_layout()\n",
    "plt.savefig('temperature_plot.png')\n",
    "print(\"Plot saved as 'temperature_plot.png'\")\n"
   ]
  },
  {
   "cell_type": "code",
   "execution_count": null,
   "id": "839209c9-0970-4f2f-8a44-639c2ecce512",
   "metadata": {},
   "outputs": [],
   "source": [
    "# Create a plot comparing temperatures by location\n",
    "print(\"\\nCreating a plot comparing temperatures by location...\")\n"
   ]
  },
  {
   "cell_type": "code",
   "execution_count": null,
   "id": "dc5fbe8c-5ab7-45ae-b820-fef4ea5315a2",
   "metadata": {},
   "outputs": [],
   "source": [
    "# Calculate average temperature by location\n",
    "location_temps = df.groupby('Location')['Temperature'].mean()\n"
   ]
  },
  {
   "cell_type": "code",
   "execution_count": null,
   "id": "af749c72-138a-40ff-99df-d573acbda2c1",
   "metadata": {},
   "outputs": [],
   "source": [
    "plt.figure(figsize=(8, 6))\n",
    "location_temps.plot(kind='bar', color=['green', 'gray'])\n",
    "plt.xlabel('Location Type')\n",
    "plt.ylabel('Average Temperature (°C)')\n",
    "plt.title('Average Temperature by Location Type')\n",
    "plt.grid(axis='y')\n"
   ]
  },
  {
   "cell_type": "code",
   "execution_count": null,
   "id": "a01e79c3-22c7-4503-87c8-c2058542f8c1",
   "metadata": {},
   "outputs": [],
   "source": [
    "# Save the plot to a file\n",
    "plt.tight_layout()\n",
    "plt.savefig('location_temperature_plot.png')\n",
    "print(\"Plot saved as 'location_temperature_plot.png'\")\n"
   ]
  },
  {
   "cell_type": "markdown",
   "id": "3e383784-0941-4d8e-8dec-2a2d198df853",
   "metadata": {},
   "source": [
    "## Geometries: Points, Linestrings and Polygons\n",
    "\n",
    "Spatial **vector** data can consist of different types, and the 3 fundamental types are:\n",
    "\n",
    "![](simple_features_3_text.svg)\n",
    "\n",
    "* **Point** data: represents a single point in space.\n",
    "* **Line** data (\"LineString\"): represents a sequence of points that form a line.\n",
    "* **Polygon** data: represents a filled area.\n",
    "\n",
    "And each of them can also be combined in multi-part geometries (See https://shapely.readthedocs.io/en/stable/manual.html#geometric-objects for extensive overview)."
   ]
  },
  {
   "cell_type": "code",
   "execution_count": null,
   "id": "afa442c7-a84f-4079-a437-70cf08db8408",
   "metadata": {},
   "outputs": [],
   "source": [
    "## Importing geospatial data library\n",
    "import pandas as pd\n",
    "import geopandas"
   ]
  },
  {
   "cell_type": "markdown",
   "id": "25ecba42-a799-47de-b6e7-cc1767ab6eaa",
   "metadata": {},
   "source": [
    "We can use the GeoPandas library to read many of those file formats (relying on the `fiona` library under the hood, which is an interface to GDAL/OGR), using the `geopandas.read_file` function."
   ]
  },
  {
   "cell_type": "code",
   "execution_count": null,
   "id": "1ec95dfc-8dfa-457a-a3f6-20b5f217ac26",
   "metadata": {},
   "outputs": [],
   "source": [
    "countries = geopandas.read_file(\"ne_110m_admin_0_countries.zip\")"
   ]
  },
  {
   "cell_type": "markdown",
   "id": "cdc849ca-5418-4333-b480-5bd7258aebd1",
   "metadata": {},
   "source": [
    "For the example we have seen up to now, the individual geometry objects are Polygons:"
   ]
  },
  {
   "cell_type": "code",
   "execution_count": null,
   "id": "902c0cb5-890d-4ee3-a830-ecf2e0f886ad",
   "metadata": {},
   "outputs": [],
   "source": [
    "print(countries.geometry[2])"
   ]
  },
  {
   "cell_type": "markdown",
   "id": "67ee9cde-0c6d-4b2b-adfc-07d1589b0eb5",
   "metadata": {},
   "source": [
    "Let's import some other datasets with different types of geometry objects.\n",
    "\n",
    "A dateset about cities in the world consisting of Point data:"
   ]
  },
  {
   "cell_type": "code",
   "execution_count": null,
   "id": "38b90fae-55ec-4267-9916-1fc8fa132249",
   "metadata": {},
   "outputs": [],
   "source": [
    "cities = geopandas.read_file(\"ne_110m_populated_places.zip\")"
   ]
  },
  {
   "cell_type": "markdown",
   "id": "fef5a0b6-543f-4994-9b05-133832aebae9",
   "metadata": {},
   "source": [
    "And a dataset of rivers in the world where each river is a (multi-)line:"
   ]
  },
  {
   "cell_type": "code",
   "execution_count": null,
   "id": "f4fb45d6-fcd4-439c-8eea-ce6972d8c6be",
   "metadata": {},
   "outputs": [],
   "source": [
    "rivers = geopandas.read_file(\"ne_50m_rivers_lake_centerlines.zip\")"
   ]
  },
  {
   "cell_type": "code",
   "execution_count": null,
   "id": "9efd89a3-b7ad-4401-9e90-25e97b3e06db",
   "metadata": {},
   "outputs": [],
   "source": [
    "print(rivers.geometry[0])"
   ]
  },
  {
   "cell_type": "markdown",
   "id": "0ffea497-45a5-4fb3-af17-30f1ab3c5976",
   "metadata": {},
   "source": [
    "### The `shapely` library\n",
    "\n",
    "The individual geometry objects are provided by the [`shapely`](https://shapely.readthedocs.io/en/stable/) library"
   ]
  },
  {
   "cell_type": "code",
   "execution_count": null,
   "id": "5333e5e6-270a-4f88-bbf7-6eb9b558dbce",
   "metadata": {},
   "outputs": [],
   "source": [
    "type(countries.geometry[0])"
   ]
  },
  {
   "cell_type": "code",
   "execution_count": null,
   "id": "f3dbecc9-6814-478f-ab86-ed1f975707ac",
   "metadata": {},
   "outputs": [],
   "source": [
    "from shapely.geometry import Point, Polygon, LineString"
   ]
  },
  {
   "cell_type": "code",
   "execution_count": null,
   "id": "68edba9a-c6e1-4c12-bf16-e573be56d8dc",
   "metadata": {},
   "outputs": [],
   "source": [
    "p = Point(0, 0)"
   ]
  },
  {
   "cell_type": "code",
   "execution_count": null,
   "id": "1628d250-ce39-4233-9558-95e07693fe7e",
   "metadata": {},
   "outputs": [],
   "source": [
    "print(p)"
   ]
  },
  {
   "cell_type": "code",
   "execution_count": null,
   "id": "75054580-f535-4034-80d5-328c1bbd7f6a",
   "metadata": {},
   "outputs": [],
   "source": [
    "polygon = Polygon([(1, 1), (2,2), (2, 1)])"
   ]
  },
  {
   "cell_type": "code",
   "execution_count": null,
   "id": "612d53b1-cc6b-4602-b9bf-03f2823520b6",
   "metadata": {},
   "outputs": [],
   "source": [
    "polygon.area"
   ]
  },
  {
   "cell_type": "code",
   "execution_count": null,
   "id": "5c4abddb-211c-4b60-84d2-b1c9bf0a233c",
   "metadata": {},
   "outputs": [],
   "source": [
    "polygon.distance(p)"
   ]
  },
  {
   "cell_type": "markdown",
   "id": "7b2dad2f-bbbb-4e45-b1de-fef0f22d60b0",
   "metadata": {},
   "source": [
    "<div class=\"alert alert-info\" style=\"font-size:120%\">\n",
    "\n",
    "**REMEMBER**: <br>\n",
    "\n",
    "Single geometries are represented by `shapely` objects:\n",
    "\n",
    "* If you access a single geometry of a GeoDataFrame, you get a shapely geometry object\n",
    "* Those objects have similar functionality as geopandas objects (GeoDataFrame/GeoSeries). For example:\n",
    "    * `single_shapely_object.distance(other_point)` -> distance between two points\n",
    "    * `geodataframe.distance(other_point)` ->  distance for each point in the geodataframe to the other point\n",
    "\n",
    "</div>"
   ]
  },
  {
   "cell_type": "markdown",
   "id": "8564b067-8757-4fb7-aa8f-bc8a6d98436f",
   "metadata": {},
   "source": [
    "## Plotting our different layers together"
   ]
  },
  {
   "cell_type": "code",
   "execution_count": null,
   "id": "5506ea5b-6939-457e-a774-61946830137a",
   "metadata": {},
   "outputs": [],
   "source": [
    "# fig, ax = plt.subplots(figsize=(15, 10))\n",
    "ax = countries.plot(edgecolor='k', facecolor='none', figsize=(15, 10))\n",
    "rivers.plot(ax=ax)\n",
    "cities.plot(ax=ax, color='red')\n",
    "ax.set(xlim=(-20, 60), ylim=(-40, 40))"
   ]
  },
  {
   "cell_type": "code",
   "execution_count": null,
   "id": "18f4b00b-439d-498e-9053-7959e3965f3c",
   "metadata": {},
   "outputs": [],
   "source": [
    "countries.crs"
   ]
  },
  {
   "cell_type": "code",
   "execution_count": null,
   "id": "0fdcad74-a6d3-454b-a238-e13830fd6b7c",
   "metadata": {},
   "outputs": [],
   "source": [
    "countries.plot()"
   ]
  },
  {
   "cell_type": "code",
   "execution_count": null,
   "id": "22164ea9-c183-4cc3-b144-478c4f4f2971",
   "metadata": {},
   "outputs": [],
   "source": [
    "# remove Antartica, as the Mercator projection cannot deal with the poles\n",
    "countries = countries[(countries['NAME'] != \"Antarctica\")]"
   ]
  },
  {
   "cell_type": "code",
   "execution_count": null,
   "id": "5886c170-5dbb-4098-85e3-ccb27932f063",
   "metadata": {},
   "outputs": [],
   "source": [
    "countries_mercator = countries.to_crs(epsg=3395)  # or .to_crs(\"EPSG:3395\")"
   ]
  },
  {
   "cell_type": "code",
   "execution_count": null,
   "id": "087a12d9-fb02-4d38-8b7c-d91e38b6a496",
   "metadata": {},
   "outputs": [],
   "source": [
    "countries_mercator.plot()"
   ]
  },
  {
   "cell_type": "code",
   "execution_count": null,
   "id": "fc3c7945-a487-4962-aff9-887130eb6335",
   "metadata": {},
   "outputs": [],
   "source": [
    "# Import the districts dataset\n",
    "districts = geopandas.read_file(\"INDIA_DISTRICTS.geojson\")"
   ]
  },
  {
   "cell_type": "code",
   "execution_count": null,
   "id": "97cea00d-e364-496c-aa3e-91d81a418c07",
   "metadata": {},
   "outputs": [],
   "source": [
    "# Check the CRS information\n",
    "districts.crs"
   ]
  },
  {
   "cell_type": "code",
   "execution_count": null,
   "id": "c1d6cf27-8fbe-49cd-ae8b-9ad42e5b5ca7",
   "metadata": {},
   "outputs": [],
   "source": [
    "# Show the first rows of the GeoDataFrame\n",
    "districts"
   ]
  },
  {
   "cell_type": "code",
   "execution_count": null,
   "id": "93504895-eb6d-4f66-bbc2-d295e252980f",
   "metadata": {},
   "outputs": [],
   "source": [
    "# Plot the districts dataset\n",
    "districts.plot()"
   ]
  },
  {
   "cell_type": "code",
   "execution_count": null,
   "id": "1b979dfa-890c-4b71-8238-41693c3de4d7",
   "metadata": {},
   "outputs": [],
   "source": [
    "# Calculate the area of all districts\n",
    "# Step 1: Choose an appropriate projected CRS\n",
    "# Example: EPSG:3857 (Web Mercator) or an appropriate UTM zone\n",
    "districts_projected = districts.to_crs(epsg=3857)\n",
    "\n",
    "# Step 2: Calculate the area in square meters (since EPSG:3857 uses meters)\n",
    "districts['area_m2'] = districts_projected.geometry.area\n",
    "\n",
    "# Optional: Convert to square kilometers if needed\n",
    "districts['area_km2'] = districts['area_m2'] / 1e6\n",
    "\n",
    "print(districts['area_km2'])"
   ]
  },
  {
   "cell_type": "markdown",
   "id": "2fa071c9-faa2-456f-88c2-086f0b959cdd",
   "metadata": {},
   "source": [
    "# Lets Practice over Gujarat"
   ]
  },
  {
   "cell_type": "code",
   "execution_count": null,
   "id": "f70b6913-46aa-4f88-a71e-8aa1531fd580",
   "metadata": {},
   "outputs": [],
   "source": [
    "# Import the districts dataset\n",
    "GUJ_districts = geopandas.read_file(\"gujarat.geojson\")"
   ]
  },
  {
   "cell_type": "code",
   "execution_count": null,
   "id": "9d81828c-1ef4-4459-9555-c149c28bbf5e",
   "metadata": {},
   "outputs": [],
   "source": [
    "# Show the first rows of the GeoDataFrame\n",
    "GUJ_districts.head()"
   ]
  },
  {
   "cell_type": "code",
   "execution_count": null,
   "id": "40fd3f95-d139-416d-abd8-296b4d4a2b3f",
   "metadata": {},
   "outputs": [],
   "source": [
    "# Plot the districts dataset\n",
    "GUJ_districts.plot()"
   ]
  },
  {
   "cell_type": "code",
   "execution_count": null,
   "id": "a95099e5-ef86-4d50-acba-a931b37783e6",
   "metadata": {},
   "outputs": [],
   "source": [
    "print(\"\\nEnd of Day 2 - You've learned how to load and visualize data!\")\n"
   ]
  }
 ],
 "metadata": {
  "kernelspec": {
   "display_name": "Python 3 (ipykernel)",
   "language": "python",
   "name": "python3"
  },
  "language_info": {
   "codemirror_mode": {
    "name": "ipython",
    "version": 3
   },
   "file_extension": ".py",
   "mimetype": "text/x-python",
   "name": "python",
   "nbconvert_exporter": "python",
   "pygments_lexer": "ipython3",
   "version": "3.10.16"
  }
 },
 "nbformat": 4,
 "nbformat_minor": 5
}
